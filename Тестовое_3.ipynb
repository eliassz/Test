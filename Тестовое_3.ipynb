{
  "nbformat": 4,
  "nbformat_minor": 0,
  "metadata": {
    "colab": {
      "name": "Тестовое",
      "provenance": [],
      "collapsed_sections": [
        "vYoUfIjImOod",
        "XYhSrZe8Pktx"
      ]
    },
    "kernelspec": {
      "name": "python3",
      "display_name": "Python 3"
    },
    "language_info": {
      "name": "python"
    }
  },
  "cells": [
    {
      "cell_type": "code",
      "execution_count": 2,
      "metadata": {
        "id": "MB3IOX6ehS05",
        "colab": {
          "base_uri": "https://localhost:8080/"
        },
        "outputId": "b732171c-8f64-4f33-a345-57784eedca09"
      },
      "outputs": [
        {
          "output_type": "stream",
          "name": "stdout",
          "text": [
            "Mounted at /content/drive\n"
          ]
        }
      ],
      "source": [
        "from google.colab import drive\n",
        "drive.mount('/content/drive')"
      ]
    },
    {
      "cell_type": "code",
      "source": [
        "!ls"
      ],
      "metadata": {
        "colab": {
          "base_uri": "https://localhost:8080/"
        },
        "id": "oXfz3sp-ccJc",
        "outputId": "97ebc611-211d-448b-978f-e6585f19bcea"
      },
      "execution_count": 3,
      "outputs": [
        {
          "output_type": "stream",
          "name": "stdout",
          "text": [
            "drive  sample_data\n"
          ]
        }
      ]
    },
    {
      "cell_type": "code",
      "source": [
        "cd /content/drive/MyDrive/Тестовое"
      ],
      "metadata": {
        "colab": {
          "base_uri": "https://localhost:8080/"
        },
        "id": "plgvy4KGitV5",
        "outputId": "bb76107f-b9fc-426e-dd84-3ef780458a80"
      },
      "execution_count": 4,
      "outputs": [
        {
          "output_type": "stream",
          "name": "stdout",
          "text": [
            "/content/drive/MyDrive/Тестовое\n"
          ]
        }
      ]
    },
    {
      "cell_type": "markdown",
      "source": [
        "Structure:  \n",
        "1. [Packages](#1)\n",
        "2. [Load data](#2)\n",
        "3. [Preprocessing](#3)\n",
        "4. [Implementing models](#4)\n",
        "5. [Secondary functions](#5)\n",
        "6. [All together](#6)"
      ],
      "metadata": {
        "id": "KpJ1Dm-4jyiK"
      }
    },
    {
      "cell_type": "markdown",
      "source": [
        "<a id='1'></a>\n",
        "# Packages"
      ],
      "metadata": {
        "id": "ZulSDBrAkoUM"
      }
    },
    {
      "cell_type": "code",
      "source": [
        "!pip install scikit-optimize catboost xgboost lightgbm"
      ],
      "metadata": {
        "colab": {
          "base_uri": "https://localhost:8080/"
        },
        "id": "qwr00OFUX-JN",
        "outputId": "5fcac9de-9d13-4339-e6bc-aada92d80518"
      },
      "execution_count": 5,
      "outputs": [
        {
          "output_type": "stream",
          "name": "stdout",
          "text": [
            "Looking in indexes: https://pypi.org/simple, https://us-python.pkg.dev/colab-wheels/public/simple/\n",
            "Collecting scikit-optimize\n",
            "  Downloading scikit_optimize-0.9.0-py2.py3-none-any.whl (100 kB)\n",
            "\u001b[K     |████████████████████████████████| 100 kB 9.4 MB/s \n",
            "\u001b[?25hCollecting catboost\n",
            "  Downloading catboost-1.0.6-cp37-none-manylinux1_x86_64.whl (76.6 MB)\n",
            "\u001b[K     |████████████████████████████████| 76.6 MB 76 kB/s \n",
            "\u001b[?25hRequirement already satisfied: xgboost in /usr/local/lib/python3.7/dist-packages (0.90)\n",
            "Requirement already satisfied: lightgbm in /usr/local/lib/python3.7/dist-packages (2.2.3)\n",
            "Requirement already satisfied: numpy>=1.13.3 in /usr/local/lib/python3.7/dist-packages (from scikit-optimize) (1.21.6)\n",
            "Collecting pyaml>=16.9\n",
            "  Downloading pyaml-21.10.1-py2.py3-none-any.whl (24 kB)\n",
            "Requirement already satisfied: joblib>=0.11 in /usr/local/lib/python3.7/dist-packages (from scikit-optimize) (1.1.0)\n",
            "Requirement already satisfied: scipy>=0.19.1 in /usr/local/lib/python3.7/dist-packages (from scikit-optimize) (1.4.1)\n",
            "Requirement already satisfied: scikit-learn>=0.20.0 in /usr/local/lib/python3.7/dist-packages (from scikit-optimize) (1.0.2)\n",
            "Requirement already satisfied: PyYAML in /usr/local/lib/python3.7/dist-packages (from pyaml>=16.9->scikit-optimize) (3.13)\n",
            "Requirement already satisfied: threadpoolctl>=2.0.0 in /usr/local/lib/python3.7/dist-packages (from scikit-learn>=0.20.0->scikit-optimize) (3.1.0)\n",
            "Requirement already satisfied: pandas>=0.24.0 in /usr/local/lib/python3.7/dist-packages (from catboost) (1.3.5)\n",
            "Requirement already satisfied: plotly in /usr/local/lib/python3.7/dist-packages (from catboost) (5.5.0)\n",
            "Requirement already satisfied: six in /usr/local/lib/python3.7/dist-packages (from catboost) (1.15.0)\n",
            "Requirement already satisfied: graphviz in /usr/local/lib/python3.7/dist-packages (from catboost) (0.10.1)\n",
            "Requirement already satisfied: matplotlib in /usr/local/lib/python3.7/dist-packages (from catboost) (3.2.2)\n",
            "Requirement already satisfied: pytz>=2017.3 in /usr/local/lib/python3.7/dist-packages (from pandas>=0.24.0->catboost) (2022.1)\n",
            "Requirement already satisfied: python-dateutil>=2.7.3 in /usr/local/lib/python3.7/dist-packages (from pandas>=0.24.0->catboost) (2.8.2)\n",
            "Requirement already satisfied: kiwisolver>=1.0.1 in /usr/local/lib/python3.7/dist-packages (from matplotlib->catboost) (1.4.2)\n",
            "Requirement already satisfied: cycler>=0.10 in /usr/local/lib/python3.7/dist-packages (from matplotlib->catboost) (0.11.0)\n",
            "Requirement already satisfied: pyparsing!=2.0.4,!=2.1.2,!=2.1.6,>=2.0.1 in /usr/local/lib/python3.7/dist-packages (from matplotlib->catboost) (3.0.9)\n",
            "Requirement already satisfied: typing-extensions in /usr/local/lib/python3.7/dist-packages (from kiwisolver>=1.0.1->matplotlib->catboost) (4.2.0)\n",
            "Requirement already satisfied: tenacity>=6.2.0 in /usr/local/lib/python3.7/dist-packages (from plotly->catboost) (8.0.1)\n",
            "Installing collected packages: pyaml, scikit-optimize, catboost\n",
            "Successfully installed catboost-1.0.6 pyaml-21.10.1 scikit-optimize-0.9.0\n"
          ]
        }
      ]
    },
    {
      "cell_type": "code",
      "source": [
        "import pandas as pd\n",
        "import numpy as np\n",
        "import itertools\n",
        "import random\n",
        "import os \n",
        "\n",
        "import matplotlib.pyplot as plt\n",
        "import seaborn as sns\n",
        "\n",
        "from pandas.core.algorithms import quantile\n",
        "\n",
        "from sklearn.impute import SimpleImputer\n",
        "from sklearn.preprocessing import StandardScaler\n",
        "from sklearn.feature_selection import VarianceThreshold\n",
        "from sklearn.model_selection import train_test_split\n",
        "\n",
        "from catboost import CatBoostRegressor\n",
        "from xgboost import XGBRegressor\n",
        "from lightgbm import LGBMRegressor\n",
        "\n",
        "from sklearn.ensemble import RandomForestRegressor\n",
        "from sklearn.ensemble import ExtraTreesRegressor\n",
        "from sklearn.linear_model import ElasticNet\n",
        "from sklearn.svm import SVR\n",
        "\n",
        "from skopt import BayesSearchCV\n",
        "from skopt.space import Integer, Real\n",
        "from sklearn.model_selection import cross_val_score\n",
        "\n",
        "from sklearn.metrics import make_scorer\n",
        "from sklearn.metrics import mean_absolute_percentage_error"
      ],
      "metadata": {
        "id": "NrwrEXzSiiMd"
      },
      "execution_count": 60,
      "outputs": []
    },
    {
      "cell_type": "code",
      "source": [
        "import warnings\n",
        "warnings.simplefilter('ignore')"
      ],
      "metadata": {
        "id": "5eK5MnSnSFob"
      },
      "execution_count": 7,
      "outputs": []
    },
    {
      "cell_type": "code",
      "source": [
        "DEFAULT_RANDOM_SEED = 1\n",
        "\n",
        "def seedBasic(seed=DEFAULT_RANDOM_SEED):\n",
        "    random.seed(seed)\n",
        "    os.environ['PYTHONHASHSEED'] = str(seed)\n",
        "    np.random.seed(seed)\n",
        "\n",
        "seedBasic()"
      ],
      "metadata": {
        "id": "z-lMba1BA0d9"
      },
      "execution_count": 8,
      "outputs": []
    },
    {
      "cell_type": "markdown",
      "source": [
        "<a id='2'></a>\n",
        "# Load data"
      ],
      "metadata": {
        "id": "vYoUfIjImOod"
      }
    },
    {
      "cell_type": "code",
      "source": [
        "def reduce_mem_usage(df):\n",
        "    \"\"\" iterate through all the columns of a dataframe and modify the data type\n",
        "        to reduce memory usage.        \n",
        "    \"\"\"\n",
        "    start_mem = df.memory_usage().sum() / 1024**2\n",
        "    print('Memory usage of dataframe is {:.2f} MB'.format(start_mem))\n",
        "    \n",
        "    for col in df.columns:\n",
        "        col_type = df[col].dtype\n",
        "        \n",
        "        if col_type != object:\n",
        "            c_min = df[col].min()\n",
        "            c_max = df[col].max()\n",
        "            if str(col_type)[:3] == 'int':\n",
        "                if c_min > np.iinfo(np.int8).min and c_max < np.iinfo(np.int8).max:\n",
        "                    df[col] = df[col].astype(np.int8)\n",
        "                elif c_min > np.iinfo(np.int16).min and c_max < np.iinfo(np.int16).max:\n",
        "                    df[col] = df[col].astype(np.int16)\n",
        "                elif c_min > np.iinfo(np.int32).min and c_max < np.iinfo(np.int32).max:\n",
        "                    df[col] = df[col].astype(np.int32)\n",
        "                elif c_min > np.iinfo(np.int64).min and c_max < np.iinfo(np.int64).max:\n",
        "                    df[col] = df[col].astype(np.int64)  \n",
        "            else:\n",
        "                if c_min > np.finfo(np.float16).min and c_max < np.finfo(np.float16).max:\n",
        "                    df[col] = df[col].astype(np.float16)\n",
        "                elif c_min > np.finfo(np.float32).min and c_max < np.finfo(np.float32).max:\n",
        "                    df[col] = df[col].astype(np.float32)\n",
        "                else:\n",
        "                    df[col] = df[col].astype(np.float64)\n",
        "        else:\n",
        "            df[col] = df[col].astype('category')\n",
        "\n",
        "    end_mem = df.memory_usage().sum() / 1024**2\n",
        "    print('Memory usage after optimization is: {:.2f} MB'.format(end_mem))\n",
        "    print('Decreased by {:.1f}%'.format(100 * (start_mem - end_mem) / start_mem))\n",
        "    \n",
        "    return df\n",
        "\n",
        "\n",
        "def import_data(file):\n",
        "    \"\"\"create a dataframe and optimize its memory usage\"\"\"\n",
        "    df = pd.read_excel(file)\n",
        "    df = reduce_mem_usage(df)\n",
        "    return df"
      ],
      "metadata": {
        "id": "5B9v9tesUTsg"
      },
      "execution_count": 9,
      "outputs": []
    },
    {
      "cell_type": "code",
      "source": [
        "df = import_data('dataset_renamed.xlsx')"
      ],
      "metadata": {
        "colab": {
          "base_uri": "https://localhost:8080/"
        },
        "id": "91rl69MxiTUD",
        "outputId": "c07e1bd2-10b8-4419-da4e-a984700b7da6"
      },
      "execution_count": 10,
      "outputs": [
        {
          "output_type": "stream",
          "name": "stdout",
          "text": [
            "Memory usage of dataframe is 1.75 MB\n",
            "Memory usage after optimization is: 0.51 MB\n",
            "Decreased by 70.8%\n"
          ]
        }
      ]
    },
    {
      "cell_type": "code",
      "source": [
        "df"
      ],
      "metadata": {
        "colab": {
          "base_uri": "https://localhost:8080/",
          "height": 592
        },
        "id": "nATwcHAd8yL_",
        "outputId": "aae74774-1a1b-46b6-f077-37d7b78c1422"
      },
      "execution_count": 11,
      "outputs": [
        {
          "output_type": "execute_result",
          "data": {
            "text/plain": [
              "     id    target  Расстояние до метро  \\\n",
              "0    60  1.292969               5528.0   \n",
              "1    50  1.674805              16240.0   \n",
              "2    17  1.140625               6400.0   \n",
              "3    15  1.352539               2256.0   \n",
              "4    74  1.325195               5812.0   \n",
              "..  ...       ...                  ...   \n",
              "93  112       NaN              19888.0   \n",
              "94  117       NaN                485.5   \n",
              "95  126       NaN               2420.0   \n",
              "96  144       NaN              12000.0   \n",
              "97  145       NaN               2680.0   \n",
              "\n",
              "    Суммарное кол-во отзывов в категории \"АЗС\" в радиусе 150м  \\\n",
              "0                                                   0           \n",
              "1                                                   0           \n",
              "2                                                   0           \n",
              "3                                                   0           \n",
              "4                                                   0           \n",
              "..                                                ...           \n",
              "93                                                  0           \n",
              "94                                                  0           \n",
              "95                                                  0           \n",
              "96                                                  0           \n",
              "97                                                  0           \n",
              "\n",
              "    Суммарное кол-во отзывов в категории \"Алкомаркеты\" в радиусе 150м  \\\n",
              "0                                                 274                   \n",
              "1                                                   0                   \n",
              "2                                                 194                   \n",
              "3                                                   0                   \n",
              "4                                                   0                   \n",
              "..                                                ...                   \n",
              "93                                                  0                   \n",
              "94                                               1258                   \n",
              "95                                                146                   \n",
              "96                                                 85                   \n",
              "97                                                  0                   \n",
              "\n",
              "    Суммарное кол-во отзывов в категории \"Аптеки\" в радиусе 150м  \\\n",
              "0                                                  56              \n",
              "1                                                 719              \n",
              "2                                                 425              \n",
              "3                                                   0              \n",
              "4                                                  71              \n",
              "..                                                ...              \n",
              "93                                                193              \n",
              "94                                                237              \n",
              "95                                                346              \n",
              "96                                                414              \n",
              "97                                                139              \n",
              "\n",
              "    Суммарное кол-во отзывов в категории \"Банки\" в радиусе 150м  \\\n",
              "0                                                 156             \n",
              "1                                                 402             \n",
              "2                                                 271             \n",
              "3                                                   0             \n",
              "4                                                   0             \n",
              "..                                                ...             \n",
              "93                                                 32             \n",
              "94                                                103             \n",
              "95                                                 16             \n",
              "96                                                547             \n",
              "97                                                  0             \n",
              "\n",
              "    Суммарное кол-во отзывов в категории \"Бизнес_центры\" в радиусе 150м  \\\n",
              "0                                                 249                     \n",
              "1                                                   0                     \n",
              "2                                                   0                     \n",
              "3                                                1737                     \n",
              "4                                                   0                     \n",
              "..                                                ...                     \n",
              "93                                                  0                     \n",
              "94                                                372                     \n",
              "95                                                 20                     \n",
              "96                                                  0                     \n",
              "97                                                  0                     \n",
              "\n",
              "    Суммарное кол-во отзывов в категории \"ВУЗы\" в радиусе 150м  \\\n",
              "0                                                   0            \n",
              "1                                                   0            \n",
              "2                                                   0            \n",
              "3                                                  83            \n",
              "4                                                   0            \n",
              "..                                                ...            \n",
              "93                                                  0            \n",
              "94                                                 60            \n",
              "95                                                  0            \n",
              "96                                                  0            \n",
              "97                                                  0            \n",
              "\n",
              "    Суммарное кол-во отзывов в категории \"Вокзалы\" в радиусе 150м  ...  \\\n",
              "0                                                   0              ...   \n",
              "1                                                   0              ...   \n",
              "2                                                   0              ...   \n",
              "3                                                   0              ...   \n",
              "4                                                   0              ...   \n",
              "..                                                ...              ...   \n",
              "93                                                  0              ...   \n",
              "94                                                  0              ...   \n",
              "95                                                  0              ...   \n",
              "96                                                  0              ...   \n",
              "97                                                  0              ...   \n",
              "\n",
              "    Суммарный вечерний трафик сигналов рабочих в радиусе 140м  \\\n",
              "0                                                  33           \n",
              "1                                                 303           \n",
              "2                                                   0           \n",
              "3                                                  52           \n",
              "4                                                 257           \n",
              "..                                                ...           \n",
              "93                                                185           \n",
              "94                                                351           \n",
              "95                                                129           \n",
              "96                                                 91           \n",
              "97                                                107           \n",
              "\n",
              "    Суммарный  трафик сигналов рабочих в радиусе 140м  \\\n",
              "0                                                 187   \n",
              "1                                                1302   \n",
              "2                                                   0   \n",
              "3                                                 315   \n",
              "4                                                1189   \n",
              "..                                                ...   \n",
              "93                                               1074   \n",
              "94                                               1529   \n",
              "95                                                437   \n",
              "96                                                309   \n",
              "97                                                670   \n",
              "\n",
              "    Суммарный утренний трафик юзеров рабочих в радиусе 140м  \\\n",
              "0                                                   3         \n",
              "1                                                   9         \n",
              "2                                                   0         \n",
              "3                                                   6         \n",
              "4                                                   2         \n",
              "..                                                ...         \n",
              "93                                                  6         \n",
              "94                                                  9         \n",
              "95                                                  8         \n",
              "96                                                 10         \n",
              "97                                                  9         \n",
              "\n",
              "    Суммарный дневной трафик юзеров рабочих в радиусе 140м  \\\n",
              "0                                                   6        \n",
              "1                                                  12        \n",
              "2                                                   0        \n",
              "3                                                   7        \n",
              "4                                                   2        \n",
              "..                                                ...        \n",
              "93                                                  6        \n",
              "94                                                 10        \n",
              "95                                                 10        \n",
              "96                                                 10        \n",
              "97                                                 10        \n",
              "\n",
              "    Суммарный вечерний трафик юзеров рабочих в радиусе 140м  \\\n",
              "0                                                   3         \n",
              "1                                                  11         \n",
              "2                                                   0         \n",
              "3                                                   5         \n",
              "4                                                   2         \n",
              "..                                                ...         \n",
              "93                                                  7         \n",
              "94                                                 10         \n",
              "95                                                  6         \n",
              "96                                                  9         \n",
              "97                                                  6         \n",
              "\n",
              "    Суммарный  трафик юзеров рабочих в радиусе 140м  Тип БЦ  Тип хаб  \\\n",
              "0                                                 6       0        0   \n",
              "1                                                15       0        0   \n",
              "2                                                 0       0        0   \n",
              "3                                                10       0        0   \n",
              "4                                                 2       0        0   \n",
              "..                                              ...     ...      ...   \n",
              "93                                                8       0        0   \n",
              "94                                               13       0        0   \n",
              "95                                               14       0        0   \n",
              "96                                               12       0        0   \n",
              "97                                               14       0        0   \n",
              "\n",
              "    Тип улица  Тип ТЦ  \n",
              "0           1       0  \n",
              "1           0       1  \n",
              "2           1       0  \n",
              "3           1       0  \n",
              "4           0       1  \n",
              "..        ...     ...  \n",
              "93          0       1  \n",
              "94          1       0  \n",
              "95          1       0  \n",
              "96          1       0  \n",
              "97          1       0  \n",
              "\n",
              "[98 rows x 2335 columns]"
            ],
            "text/html": [
              "\n",
              "  <div id=\"df-e339a162-9c9b-40f3-bca2-efb3b8f83457\">\n",
              "    <div class=\"colab-df-container\">\n",
              "      <div>\n",
              "<style scoped>\n",
              "    .dataframe tbody tr th:only-of-type {\n",
              "        vertical-align: middle;\n",
              "    }\n",
              "\n",
              "    .dataframe tbody tr th {\n",
              "        vertical-align: top;\n",
              "    }\n",
              "\n",
              "    .dataframe thead th {\n",
              "        text-align: right;\n",
              "    }\n",
              "</style>\n",
              "<table border=\"1\" class=\"dataframe\">\n",
              "  <thead>\n",
              "    <tr style=\"text-align: right;\">\n",
              "      <th></th>\n",
              "      <th>id</th>\n",
              "      <th>target</th>\n",
              "      <th>Расстояние до метро</th>\n",
              "      <th>Суммарное кол-во отзывов в категории \"АЗС\" в радиусе 150м</th>\n",
              "      <th>Суммарное кол-во отзывов в категории \"Алкомаркеты\" в радиусе 150м</th>\n",
              "      <th>Суммарное кол-во отзывов в категории \"Аптеки\" в радиусе 150м</th>\n",
              "      <th>Суммарное кол-во отзывов в категории \"Банки\" в радиусе 150м</th>\n",
              "      <th>Суммарное кол-во отзывов в категории \"Бизнес_центры\" в радиусе 150м</th>\n",
              "      <th>Суммарное кол-во отзывов в категории \"ВУЗы\" в радиусе 150м</th>\n",
              "      <th>Суммарное кол-во отзывов в категории \"Вокзалы\" в радиусе 150м</th>\n",
              "      <th>...</th>\n",
              "      <th>Суммарный вечерний трафик сигналов рабочих в радиусе 140м</th>\n",
              "      <th>Суммарный  трафик сигналов рабочих в радиусе 140м</th>\n",
              "      <th>Суммарный утренний трафик юзеров рабочих в радиусе 140м</th>\n",
              "      <th>Суммарный дневной трафик юзеров рабочих в радиусе 140м</th>\n",
              "      <th>Суммарный вечерний трафик юзеров рабочих в радиусе 140м</th>\n",
              "      <th>Суммарный  трафик юзеров рабочих в радиусе 140м</th>\n",
              "      <th>Тип БЦ</th>\n",
              "      <th>Тип хаб</th>\n",
              "      <th>Тип улица</th>\n",
              "      <th>Тип ТЦ</th>\n",
              "    </tr>\n",
              "  </thead>\n",
              "  <tbody>\n",
              "    <tr>\n",
              "      <th>0</th>\n",
              "      <td>60</td>\n",
              "      <td>1.292969</td>\n",
              "      <td>5528.0</td>\n",
              "      <td>0</td>\n",
              "      <td>274</td>\n",
              "      <td>56</td>\n",
              "      <td>156</td>\n",
              "      <td>249</td>\n",
              "      <td>0</td>\n",
              "      <td>0</td>\n",
              "      <td>...</td>\n",
              "      <td>33</td>\n",
              "      <td>187</td>\n",
              "      <td>3</td>\n",
              "      <td>6</td>\n",
              "      <td>3</td>\n",
              "      <td>6</td>\n",
              "      <td>0</td>\n",
              "      <td>0</td>\n",
              "      <td>1</td>\n",
              "      <td>0</td>\n",
              "    </tr>\n",
              "    <tr>\n",
              "      <th>1</th>\n",
              "      <td>50</td>\n",
              "      <td>1.674805</td>\n",
              "      <td>16240.0</td>\n",
              "      <td>0</td>\n",
              "      <td>0</td>\n",
              "      <td>719</td>\n",
              "      <td>402</td>\n",
              "      <td>0</td>\n",
              "      <td>0</td>\n",
              "      <td>0</td>\n",
              "      <td>...</td>\n",
              "      <td>303</td>\n",
              "      <td>1302</td>\n",
              "      <td>9</td>\n",
              "      <td>12</td>\n",
              "      <td>11</td>\n",
              "      <td>15</td>\n",
              "      <td>0</td>\n",
              "      <td>0</td>\n",
              "      <td>0</td>\n",
              "      <td>1</td>\n",
              "    </tr>\n",
              "    <tr>\n",
              "      <th>2</th>\n",
              "      <td>17</td>\n",
              "      <td>1.140625</td>\n",
              "      <td>6400.0</td>\n",
              "      <td>0</td>\n",
              "      <td>194</td>\n",
              "      <td>425</td>\n",
              "      <td>271</td>\n",
              "      <td>0</td>\n",
              "      <td>0</td>\n",
              "      <td>0</td>\n",
              "      <td>...</td>\n",
              "      <td>0</td>\n",
              "      <td>0</td>\n",
              "      <td>0</td>\n",
              "      <td>0</td>\n",
              "      <td>0</td>\n",
              "      <td>0</td>\n",
              "      <td>0</td>\n",
              "      <td>0</td>\n",
              "      <td>1</td>\n",
              "      <td>0</td>\n",
              "    </tr>\n",
              "    <tr>\n",
              "      <th>3</th>\n",
              "      <td>15</td>\n",
              "      <td>1.352539</td>\n",
              "      <td>2256.0</td>\n",
              "      <td>0</td>\n",
              "      <td>0</td>\n",
              "      <td>0</td>\n",
              "      <td>0</td>\n",
              "      <td>1737</td>\n",
              "      <td>83</td>\n",
              "      <td>0</td>\n",
              "      <td>...</td>\n",
              "      <td>52</td>\n",
              "      <td>315</td>\n",
              "      <td>6</td>\n",
              "      <td>7</td>\n",
              "      <td>5</td>\n",
              "      <td>10</td>\n",
              "      <td>0</td>\n",
              "      <td>0</td>\n",
              "      <td>1</td>\n",
              "      <td>0</td>\n",
              "    </tr>\n",
              "    <tr>\n",
              "      <th>4</th>\n",
              "      <td>74</td>\n",
              "      <td>1.325195</td>\n",
              "      <td>5812.0</td>\n",
              "      <td>0</td>\n",
              "      <td>0</td>\n",
              "      <td>71</td>\n",
              "      <td>0</td>\n",
              "      <td>0</td>\n",
              "      <td>0</td>\n",
              "      <td>0</td>\n",
              "      <td>...</td>\n",
              "      <td>257</td>\n",
              "      <td>1189</td>\n",
              "      <td>2</td>\n",
              "      <td>2</td>\n",
              "      <td>2</td>\n",
              "      <td>2</td>\n",
              "      <td>0</td>\n",
              "      <td>0</td>\n",
              "      <td>0</td>\n",
              "      <td>1</td>\n",
              "    </tr>\n",
              "    <tr>\n",
              "      <th>...</th>\n",
              "      <td>...</td>\n",
              "      <td>...</td>\n",
              "      <td>...</td>\n",
              "      <td>...</td>\n",
              "      <td>...</td>\n",
              "      <td>...</td>\n",
              "      <td>...</td>\n",
              "      <td>...</td>\n",
              "      <td>...</td>\n",
              "      <td>...</td>\n",
              "      <td>...</td>\n",
              "      <td>...</td>\n",
              "      <td>...</td>\n",
              "      <td>...</td>\n",
              "      <td>...</td>\n",
              "      <td>...</td>\n",
              "      <td>...</td>\n",
              "      <td>...</td>\n",
              "      <td>...</td>\n",
              "      <td>...</td>\n",
              "      <td>...</td>\n",
              "    </tr>\n",
              "    <tr>\n",
              "      <th>93</th>\n",
              "      <td>112</td>\n",
              "      <td>NaN</td>\n",
              "      <td>19888.0</td>\n",
              "      <td>0</td>\n",
              "      <td>0</td>\n",
              "      <td>193</td>\n",
              "      <td>32</td>\n",
              "      <td>0</td>\n",
              "      <td>0</td>\n",
              "      <td>0</td>\n",
              "      <td>...</td>\n",
              "      <td>185</td>\n",
              "      <td>1074</td>\n",
              "      <td>6</td>\n",
              "      <td>6</td>\n",
              "      <td>7</td>\n",
              "      <td>8</td>\n",
              "      <td>0</td>\n",
              "      <td>0</td>\n",
              "      <td>0</td>\n",
              "      <td>1</td>\n",
              "    </tr>\n",
              "    <tr>\n",
              "      <th>94</th>\n",
              "      <td>117</td>\n",
              "      <td>NaN</td>\n",
              "      <td>485.5</td>\n",
              "      <td>0</td>\n",
              "      <td>1258</td>\n",
              "      <td>237</td>\n",
              "      <td>103</td>\n",
              "      <td>372</td>\n",
              "      <td>60</td>\n",
              "      <td>0</td>\n",
              "      <td>...</td>\n",
              "      <td>351</td>\n",
              "      <td>1529</td>\n",
              "      <td>9</td>\n",
              "      <td>10</td>\n",
              "      <td>10</td>\n",
              "      <td>13</td>\n",
              "      <td>0</td>\n",
              "      <td>0</td>\n",
              "      <td>1</td>\n",
              "      <td>0</td>\n",
              "    </tr>\n",
              "    <tr>\n",
              "      <th>95</th>\n",
              "      <td>126</td>\n",
              "      <td>NaN</td>\n",
              "      <td>2420.0</td>\n",
              "      <td>0</td>\n",
              "      <td>146</td>\n",
              "      <td>346</td>\n",
              "      <td>16</td>\n",
              "      <td>20</td>\n",
              "      <td>0</td>\n",
              "      <td>0</td>\n",
              "      <td>...</td>\n",
              "      <td>129</td>\n",
              "      <td>437</td>\n",
              "      <td>8</td>\n",
              "      <td>10</td>\n",
              "      <td>6</td>\n",
              "      <td>14</td>\n",
              "      <td>0</td>\n",
              "      <td>0</td>\n",
              "      <td>1</td>\n",
              "      <td>0</td>\n",
              "    </tr>\n",
              "    <tr>\n",
              "      <th>96</th>\n",
              "      <td>144</td>\n",
              "      <td>NaN</td>\n",
              "      <td>12000.0</td>\n",
              "      <td>0</td>\n",
              "      <td>85</td>\n",
              "      <td>414</td>\n",
              "      <td>547</td>\n",
              "      <td>0</td>\n",
              "      <td>0</td>\n",
              "      <td>0</td>\n",
              "      <td>...</td>\n",
              "      <td>91</td>\n",
              "      <td>309</td>\n",
              "      <td>10</td>\n",
              "      <td>10</td>\n",
              "      <td>9</td>\n",
              "      <td>12</td>\n",
              "      <td>0</td>\n",
              "      <td>0</td>\n",
              "      <td>1</td>\n",
              "      <td>0</td>\n",
              "    </tr>\n",
              "    <tr>\n",
              "      <th>97</th>\n",
              "      <td>145</td>\n",
              "      <td>NaN</td>\n",
              "      <td>2680.0</td>\n",
              "      <td>0</td>\n",
              "      <td>0</td>\n",
              "      <td>139</td>\n",
              "      <td>0</td>\n",
              "      <td>0</td>\n",
              "      <td>0</td>\n",
              "      <td>0</td>\n",
              "      <td>...</td>\n",
              "      <td>107</td>\n",
              "      <td>670</td>\n",
              "      <td>9</td>\n",
              "      <td>10</td>\n",
              "      <td>6</td>\n",
              "      <td>14</td>\n",
              "      <td>0</td>\n",
              "      <td>0</td>\n",
              "      <td>1</td>\n",
              "      <td>0</td>\n",
              "    </tr>\n",
              "  </tbody>\n",
              "</table>\n",
              "<p>98 rows × 2335 columns</p>\n",
              "</div>\n",
              "      <button class=\"colab-df-convert\" onclick=\"convertToInteractive('df-e339a162-9c9b-40f3-bca2-efb3b8f83457')\"\n",
              "              title=\"Convert this dataframe to an interactive table.\"\n",
              "              style=\"display:none;\">\n",
              "        \n",
              "  <svg xmlns=\"http://www.w3.org/2000/svg\" height=\"24px\"viewBox=\"0 0 24 24\"\n",
              "       width=\"24px\">\n",
              "    <path d=\"M0 0h24v24H0V0z\" fill=\"none\"/>\n",
              "    <path d=\"M18.56 5.44l.94 2.06.94-2.06 2.06-.94-2.06-.94-.94-2.06-.94 2.06-2.06.94zm-11 1L8.5 8.5l.94-2.06 2.06-.94-2.06-.94L8.5 2.5l-.94 2.06-2.06.94zm10 10l.94 2.06.94-2.06 2.06-.94-2.06-.94-.94-2.06-.94 2.06-2.06.94z\"/><path d=\"M17.41 7.96l-1.37-1.37c-.4-.4-.92-.59-1.43-.59-.52 0-1.04.2-1.43.59L10.3 9.45l-7.72 7.72c-.78.78-.78 2.05 0 2.83L4 21.41c.39.39.9.59 1.41.59.51 0 1.02-.2 1.41-.59l7.78-7.78 2.81-2.81c.8-.78.8-2.07 0-2.86zM5.41 20L4 18.59l7.72-7.72 1.47 1.35L5.41 20z\"/>\n",
              "  </svg>\n",
              "      </button>\n",
              "      \n",
              "  <style>\n",
              "    .colab-df-container {\n",
              "      display:flex;\n",
              "      flex-wrap:wrap;\n",
              "      gap: 12px;\n",
              "    }\n",
              "\n",
              "    .colab-df-convert {\n",
              "      background-color: #E8F0FE;\n",
              "      border: none;\n",
              "      border-radius: 50%;\n",
              "      cursor: pointer;\n",
              "      display: none;\n",
              "      fill: #1967D2;\n",
              "      height: 32px;\n",
              "      padding: 0 0 0 0;\n",
              "      width: 32px;\n",
              "    }\n",
              "\n",
              "    .colab-df-convert:hover {\n",
              "      background-color: #E2EBFA;\n",
              "      box-shadow: 0px 1px 2px rgba(60, 64, 67, 0.3), 0px 1px 3px 1px rgba(60, 64, 67, 0.15);\n",
              "      fill: #174EA6;\n",
              "    }\n",
              "\n",
              "    [theme=dark] .colab-df-convert {\n",
              "      background-color: #3B4455;\n",
              "      fill: #D2E3FC;\n",
              "    }\n",
              "\n",
              "    [theme=dark] .colab-df-convert:hover {\n",
              "      background-color: #434B5C;\n",
              "      box-shadow: 0px 1px 3px 1px rgba(0, 0, 0, 0.15);\n",
              "      filter: drop-shadow(0px 1px 2px rgba(0, 0, 0, 0.3));\n",
              "      fill: #FFFFFF;\n",
              "    }\n",
              "  </style>\n",
              "\n",
              "      <script>\n",
              "        const buttonEl =\n",
              "          document.querySelector('#df-e339a162-9c9b-40f3-bca2-efb3b8f83457 button.colab-df-convert');\n",
              "        buttonEl.style.display =\n",
              "          google.colab.kernel.accessAllowed ? 'block' : 'none';\n",
              "\n",
              "        async function convertToInteractive(key) {\n",
              "          const element = document.querySelector('#df-e339a162-9c9b-40f3-bca2-efb3b8f83457');\n",
              "          const dataTable =\n",
              "            await google.colab.kernel.invokeFunction('convertToInteractive',\n",
              "                                                     [key], {});\n",
              "          if (!dataTable) return;\n",
              "\n",
              "          const docLinkHtml = 'Like what you see? Visit the ' +\n",
              "            '<a target=\"_blank\" href=https://colab.research.google.com/notebooks/data_table.ipynb>data table notebook</a>'\n",
              "            + ' to learn more about interactive tables.';\n",
              "          element.innerHTML = '';\n",
              "          dataTable['output_type'] = 'display_data';\n",
              "          await google.colab.output.renderOutput(dataTable, element);\n",
              "          const docLink = document.createElement('div');\n",
              "          docLink.innerHTML = docLinkHtml;\n",
              "          element.appendChild(docLink);\n",
              "        }\n",
              "      </script>\n",
              "    </div>\n",
              "  </div>\n",
              "  "
            ]
          },
          "metadata": {},
          "execution_count": 11
        }
      ]
    },
    {
      "cell_type": "code",
      "source": [
        "len(df.select_dtypes(include = np.number).columns)"
      ],
      "metadata": {
        "colab": {
          "base_uri": "https://localhost:8080/"
        },
        "id": "v_zcdlKw8U2n",
        "outputId": "116e93ec-7ed0-42fd-f81c-9cfaba86cc99"
      },
      "execution_count": 12,
      "outputs": [
        {
          "output_type": "execute_result",
          "data": {
            "text/plain": [
              "2335"
            ]
          },
          "metadata": {},
          "execution_count": 12
        }
      ]
    },
    {
      "cell_type": "markdown",
      "source": [
        "Categorical data are binary encoded (last columns in data)."
      ],
      "metadata": {
        "id": "d7Efoiho85Ag"
      }
    },
    {
      "cell_type": "markdown",
      "source": [
        "<a id='3'></a>\n",
        "# Preprocessing"
      ],
      "metadata": {
        "id": "XYhSrZe8Pktx"
      }
    },
    {
      "cell_type": "markdown",
      "source": [
        "## Split data"
      ],
      "metadata": {
        "id": "1X1G8xGOmxvM"
      }
    },
    {
      "cell_type": "code",
      "source": [
        "data = df[~df['target'].isnull()]\n",
        "pred = df[df['target'].isnull()]\n",
        "\n",
        "features = data.columns.drop(['id', 'target'])\n",
        "target = data['target']\n",
        "target *= 10**6\n",
        "target = target.round(0)\n",
        "pred.drop(['id', 'target'], axis=1, inplace=True)\n",
        "\n",
        "print('Train rows:', data.shape[0])\n",
        "print('Predicion rows:', pred.shape[0])\n",
        "print('Data columns:', len(features))"
      ],
      "metadata": {
        "colab": {
          "base_uri": "https://localhost:8080/"
        },
        "id": "W9qta3LZzUSZ",
        "outputId": "d9ab4823-c3d9-4b43-88c4-4ce0a8b7fb81"
      },
      "execution_count": 13,
      "outputs": [
        {
          "output_type": "stream",
          "name": "stdout",
          "text": [
            "Train rows: 88\n",
            "Predicion rows: 10\n",
            "Data columns: 2333\n"
          ]
        }
      ]
    },
    {
      "cell_type": "markdown",
      "source": [
        "As we can see there are few observations and huge amount of features. It's the main issue causes overfitting. Let's use some tips to wrestle it:\n",
        "\n",
        "*   Select features\n",
        "*   Use simple model\n",
        "*   Use more foldes for validation (as extreme case LOOCV)\n",
        "\n",
        "But first of all we should preprocesse our data.\n"
      ],
      "metadata": {
        "id": "UnkSVsTzDHJw"
      }
    },
    {
      "cell_type": "markdown",
      "source": [
        "## Drop dublicates\n",
        "We've got too much features. It seems strange. Let't make *dirty hack*."
      ],
      "metadata": {
        "id": "F3U1VUGziCL3"
      }
    },
    {
      "cell_type": "code",
      "source": [
        "print(f'Such amount of columns was {len(features)}.')\n",
        "features = data[features].T.drop_duplicates(keep='first').T.columns\n",
        "print(f'Such amount of columns becomes {len(features)}.')"
      ],
      "metadata": {
        "colab": {
          "base_uri": "https://localhost:8080/"
        },
        "id": "DagUmMUdP-T8",
        "outputId": "fe4b216b-c6b4-4e88-b1c5-cccf8b828ecf"
      },
      "execution_count": 14,
      "outputs": [
        {
          "output_type": "stream",
          "name": "stdout",
          "text": [
            "Such amount of columns was 2333.\n",
            "Such amount of columns becomes 1907.\n"
          ]
        }
      ]
    },
    {
      "cell_type": "markdown",
      "source": [
        "## Work with nans"
      ],
      "metadata": {
        "id": "3S5zztWndvzY"
      }
    },
    {
      "cell_type": "code",
      "source": [
        "%%time\n",
        "\n",
        "percent_missing = data[features].isnull().sum() * 100 / len(df)\n",
        "missing_value_df = pd.DataFrame({'percent_missing': percent_missing})"
      ],
      "metadata": {
        "colab": {
          "base_uri": "https://localhost:8080/"
        },
        "id": "7X6YEA9xP-PG",
        "outputId": "cf45e858-9e8f-4706-f1da-b39f3e7af9c0"
      },
      "execution_count": 15,
      "outputs": [
        {
          "output_type": "stream",
          "name": "stdout",
          "text": [
            "CPU times: user 10.2 ms, sys: 3.02 ms, total: 13.3 ms\n",
            "Wall time: 17.5 ms\n"
          ]
        }
      ]
    },
    {
      "cell_type": "code",
      "source": [
        "missing_value_df.head()"
      ],
      "metadata": {
        "colab": {
          "base_uri": "https://localhost:8080/",
          "height": 206
        },
        "id": "C-EXwcfo5nMk",
        "outputId": "86374599-d34b-48af-8594-c05b12472dd7"
      },
      "execution_count": 16,
      "outputs": [
        {
          "output_type": "execute_result",
          "data": {
            "text/plain": [
              "                                                    percent_missing\n",
              "Расстояние до метро                                             0.0\n",
              "Суммарное кол-во отзывов в категории \"АЗС\" в ра...              0.0\n",
              "Суммарное кол-во отзывов в категории \"Алкомарке...              0.0\n",
              "Суммарное кол-во отзывов в категории \"Аптеки\" в...              0.0\n",
              "Суммарное кол-во отзывов в категории \"Банки\" в ...              0.0"
            ],
            "text/html": [
              "\n",
              "  <div id=\"df-9152db6b-574e-4145-9ade-6bcd9e59fd30\">\n",
              "    <div class=\"colab-df-container\">\n",
              "      <div>\n",
              "<style scoped>\n",
              "    .dataframe tbody tr th:only-of-type {\n",
              "        vertical-align: middle;\n",
              "    }\n",
              "\n",
              "    .dataframe tbody tr th {\n",
              "        vertical-align: top;\n",
              "    }\n",
              "\n",
              "    .dataframe thead th {\n",
              "        text-align: right;\n",
              "    }\n",
              "</style>\n",
              "<table border=\"1\" class=\"dataframe\">\n",
              "  <thead>\n",
              "    <tr style=\"text-align: right;\">\n",
              "      <th></th>\n",
              "      <th>percent_missing</th>\n",
              "    </tr>\n",
              "  </thead>\n",
              "  <tbody>\n",
              "    <tr>\n",
              "      <th>Расстояние до метро</th>\n",
              "      <td>0.0</td>\n",
              "    </tr>\n",
              "    <tr>\n",
              "      <th>Суммарное кол-во отзывов в категории \"АЗС\" в радиусе 150м</th>\n",
              "      <td>0.0</td>\n",
              "    </tr>\n",
              "    <tr>\n",
              "      <th>Суммарное кол-во отзывов в категории \"Алкомаркеты\" в радиусе 150м</th>\n",
              "      <td>0.0</td>\n",
              "    </tr>\n",
              "    <tr>\n",
              "      <th>Суммарное кол-во отзывов в категории \"Аптеки\" в радиусе 150м</th>\n",
              "      <td>0.0</td>\n",
              "    </tr>\n",
              "    <tr>\n",
              "      <th>Суммарное кол-во отзывов в категории \"Банки\" в радиусе 150м</th>\n",
              "      <td>0.0</td>\n",
              "    </tr>\n",
              "  </tbody>\n",
              "</table>\n",
              "</div>\n",
              "      <button class=\"colab-df-convert\" onclick=\"convertToInteractive('df-9152db6b-574e-4145-9ade-6bcd9e59fd30')\"\n",
              "              title=\"Convert this dataframe to an interactive table.\"\n",
              "              style=\"display:none;\">\n",
              "        \n",
              "  <svg xmlns=\"http://www.w3.org/2000/svg\" height=\"24px\"viewBox=\"0 0 24 24\"\n",
              "       width=\"24px\">\n",
              "    <path d=\"M0 0h24v24H0V0z\" fill=\"none\"/>\n",
              "    <path d=\"M18.56 5.44l.94 2.06.94-2.06 2.06-.94-2.06-.94-.94-2.06-.94 2.06-2.06.94zm-11 1L8.5 8.5l.94-2.06 2.06-.94-2.06-.94L8.5 2.5l-.94 2.06-2.06.94zm10 10l.94 2.06.94-2.06 2.06-.94-2.06-.94-.94-2.06-.94 2.06-2.06.94z\"/><path d=\"M17.41 7.96l-1.37-1.37c-.4-.4-.92-.59-1.43-.59-.52 0-1.04.2-1.43.59L10.3 9.45l-7.72 7.72c-.78.78-.78 2.05 0 2.83L4 21.41c.39.39.9.59 1.41.59.51 0 1.02-.2 1.41-.59l7.78-7.78 2.81-2.81c.8-.78.8-2.07 0-2.86zM5.41 20L4 18.59l7.72-7.72 1.47 1.35L5.41 20z\"/>\n",
              "  </svg>\n",
              "      </button>\n",
              "      \n",
              "  <style>\n",
              "    .colab-df-container {\n",
              "      display:flex;\n",
              "      flex-wrap:wrap;\n",
              "      gap: 12px;\n",
              "    }\n",
              "\n",
              "    .colab-df-convert {\n",
              "      background-color: #E8F0FE;\n",
              "      border: none;\n",
              "      border-radius: 50%;\n",
              "      cursor: pointer;\n",
              "      display: none;\n",
              "      fill: #1967D2;\n",
              "      height: 32px;\n",
              "      padding: 0 0 0 0;\n",
              "      width: 32px;\n",
              "    }\n",
              "\n",
              "    .colab-df-convert:hover {\n",
              "      background-color: #E2EBFA;\n",
              "      box-shadow: 0px 1px 2px rgba(60, 64, 67, 0.3), 0px 1px 3px 1px rgba(60, 64, 67, 0.15);\n",
              "      fill: #174EA6;\n",
              "    }\n",
              "\n",
              "    [theme=dark] .colab-df-convert {\n",
              "      background-color: #3B4455;\n",
              "      fill: #D2E3FC;\n",
              "    }\n",
              "\n",
              "    [theme=dark] .colab-df-convert:hover {\n",
              "      background-color: #434B5C;\n",
              "      box-shadow: 0px 1px 3px 1px rgba(0, 0, 0, 0.15);\n",
              "      filter: drop-shadow(0px 1px 2px rgba(0, 0, 0, 0.3));\n",
              "      fill: #FFFFFF;\n",
              "    }\n",
              "  </style>\n",
              "\n",
              "      <script>\n",
              "        const buttonEl =\n",
              "          document.querySelector('#df-9152db6b-574e-4145-9ade-6bcd9e59fd30 button.colab-df-convert');\n",
              "        buttonEl.style.display =\n",
              "          google.colab.kernel.accessAllowed ? 'block' : 'none';\n",
              "\n",
              "        async function convertToInteractive(key) {\n",
              "          const element = document.querySelector('#df-9152db6b-574e-4145-9ade-6bcd9e59fd30');\n",
              "          const dataTable =\n",
              "            await google.colab.kernel.invokeFunction('convertToInteractive',\n",
              "                                                     [key], {});\n",
              "          if (!dataTable) return;\n",
              "\n",
              "          const docLinkHtml = 'Like what you see? Visit the ' +\n",
              "            '<a target=\"_blank\" href=https://colab.research.google.com/notebooks/data_table.ipynb>data table notebook</a>'\n",
              "            + ' to learn more about interactive tables.';\n",
              "          element.innerHTML = '';\n",
              "          dataTable['output_type'] = 'display_data';\n",
              "          await google.colab.output.renderOutput(dataTable, element);\n",
              "          const docLink = document.createElement('div');\n",
              "          docLink.innerHTML = docLinkHtml;\n",
              "          element.appendChild(docLink);\n",
              "        }\n",
              "      </script>\n",
              "    </div>\n",
              "  </div>\n",
              "  "
            ]
          },
          "metadata": {},
          "execution_count": 16
        }
      ]
    },
    {
      "cell_type": "code",
      "source": [
        "missing_value_df.describe()"
      ],
      "metadata": {
        "colab": {
          "base_uri": "https://localhost:8080/",
          "height": 300
        },
        "id": "sqPpcORsfr2P",
        "outputId": "f48e413f-71aa-4611-a915-6c31d7d9e82e"
      },
      "execution_count": 17,
      "outputs": [
        {
          "output_type": "execute_result",
          "data": {
            "text/plain": [
              "       percent_missing\n",
              "count      1907.000000\n",
              "mean         10.297187\n",
              "std          23.484561\n",
              "min           0.000000\n",
              "25%           0.000000\n",
              "50%           0.000000\n",
              "75%           4.081633\n",
              "max          89.795918"
            ],
            "text/html": [
              "\n",
              "  <div id=\"df-a8ff976c-f186-4711-b910-688810f4dd0e\">\n",
              "    <div class=\"colab-df-container\">\n",
              "      <div>\n",
              "<style scoped>\n",
              "    .dataframe tbody tr th:only-of-type {\n",
              "        vertical-align: middle;\n",
              "    }\n",
              "\n",
              "    .dataframe tbody tr th {\n",
              "        vertical-align: top;\n",
              "    }\n",
              "\n",
              "    .dataframe thead th {\n",
              "        text-align: right;\n",
              "    }\n",
              "</style>\n",
              "<table border=\"1\" class=\"dataframe\">\n",
              "  <thead>\n",
              "    <tr style=\"text-align: right;\">\n",
              "      <th></th>\n",
              "      <th>percent_missing</th>\n",
              "    </tr>\n",
              "  </thead>\n",
              "  <tbody>\n",
              "    <tr>\n",
              "      <th>count</th>\n",
              "      <td>1907.000000</td>\n",
              "    </tr>\n",
              "    <tr>\n",
              "      <th>mean</th>\n",
              "      <td>10.297187</td>\n",
              "    </tr>\n",
              "    <tr>\n",
              "      <th>std</th>\n",
              "      <td>23.484561</td>\n",
              "    </tr>\n",
              "    <tr>\n",
              "      <th>min</th>\n",
              "      <td>0.000000</td>\n",
              "    </tr>\n",
              "    <tr>\n",
              "      <th>25%</th>\n",
              "      <td>0.000000</td>\n",
              "    </tr>\n",
              "    <tr>\n",
              "      <th>50%</th>\n",
              "      <td>0.000000</td>\n",
              "    </tr>\n",
              "    <tr>\n",
              "      <th>75%</th>\n",
              "      <td>4.081633</td>\n",
              "    </tr>\n",
              "    <tr>\n",
              "      <th>max</th>\n",
              "      <td>89.795918</td>\n",
              "    </tr>\n",
              "  </tbody>\n",
              "</table>\n",
              "</div>\n",
              "      <button class=\"colab-df-convert\" onclick=\"convertToInteractive('df-a8ff976c-f186-4711-b910-688810f4dd0e')\"\n",
              "              title=\"Convert this dataframe to an interactive table.\"\n",
              "              style=\"display:none;\">\n",
              "        \n",
              "  <svg xmlns=\"http://www.w3.org/2000/svg\" height=\"24px\"viewBox=\"0 0 24 24\"\n",
              "       width=\"24px\">\n",
              "    <path d=\"M0 0h24v24H0V0z\" fill=\"none\"/>\n",
              "    <path d=\"M18.56 5.44l.94 2.06.94-2.06 2.06-.94-2.06-.94-.94-2.06-.94 2.06-2.06.94zm-11 1L8.5 8.5l.94-2.06 2.06-.94-2.06-.94L8.5 2.5l-.94 2.06-2.06.94zm10 10l.94 2.06.94-2.06 2.06-.94-2.06-.94-.94-2.06-.94 2.06-2.06.94z\"/><path d=\"M17.41 7.96l-1.37-1.37c-.4-.4-.92-.59-1.43-.59-.52 0-1.04.2-1.43.59L10.3 9.45l-7.72 7.72c-.78.78-.78 2.05 0 2.83L4 21.41c.39.39.9.59 1.41.59.51 0 1.02-.2 1.41-.59l7.78-7.78 2.81-2.81c.8-.78.8-2.07 0-2.86zM5.41 20L4 18.59l7.72-7.72 1.47 1.35L5.41 20z\"/>\n",
              "  </svg>\n",
              "      </button>\n",
              "      \n",
              "  <style>\n",
              "    .colab-df-container {\n",
              "      display:flex;\n",
              "      flex-wrap:wrap;\n",
              "      gap: 12px;\n",
              "    }\n",
              "\n",
              "    .colab-df-convert {\n",
              "      background-color: #E8F0FE;\n",
              "      border: none;\n",
              "      border-radius: 50%;\n",
              "      cursor: pointer;\n",
              "      display: none;\n",
              "      fill: #1967D2;\n",
              "      height: 32px;\n",
              "      padding: 0 0 0 0;\n",
              "      width: 32px;\n",
              "    }\n",
              "\n",
              "    .colab-df-convert:hover {\n",
              "      background-color: #E2EBFA;\n",
              "      box-shadow: 0px 1px 2px rgba(60, 64, 67, 0.3), 0px 1px 3px 1px rgba(60, 64, 67, 0.15);\n",
              "      fill: #174EA6;\n",
              "    }\n",
              "\n",
              "    [theme=dark] .colab-df-convert {\n",
              "      background-color: #3B4455;\n",
              "      fill: #D2E3FC;\n",
              "    }\n",
              "\n",
              "    [theme=dark] .colab-df-convert:hover {\n",
              "      background-color: #434B5C;\n",
              "      box-shadow: 0px 1px 3px 1px rgba(0, 0, 0, 0.15);\n",
              "      filter: drop-shadow(0px 1px 2px rgba(0, 0, 0, 0.3));\n",
              "      fill: #FFFFFF;\n",
              "    }\n",
              "  </style>\n",
              "\n",
              "      <script>\n",
              "        const buttonEl =\n",
              "          document.querySelector('#df-a8ff976c-f186-4711-b910-688810f4dd0e button.colab-df-convert');\n",
              "        buttonEl.style.display =\n",
              "          google.colab.kernel.accessAllowed ? 'block' : 'none';\n",
              "\n",
              "        async function convertToInteractive(key) {\n",
              "          const element = document.querySelector('#df-a8ff976c-f186-4711-b910-688810f4dd0e');\n",
              "          const dataTable =\n",
              "            await google.colab.kernel.invokeFunction('convertToInteractive',\n",
              "                                                     [key], {});\n",
              "          if (!dataTable) return;\n",
              "\n",
              "          const docLinkHtml = 'Like what you see? Visit the ' +\n",
              "            '<a target=\"_blank\" href=https://colab.research.google.com/notebooks/data_table.ipynb>data table notebook</a>'\n",
              "            + ' to learn more about interactive tables.';\n",
              "          element.innerHTML = '';\n",
              "          dataTable['output_type'] = 'display_data';\n",
              "          await google.colab.output.renderOutput(dataTable, element);\n",
              "          const docLink = document.createElement('div');\n",
              "          docLink.innerHTML = docLinkHtml;\n",
              "          element.appendChild(docLink);\n",
              "        }\n",
              "      </script>\n",
              "    </div>\n",
              "  </div>\n",
              "  "
            ]
          },
          "metadata": {},
          "execution_count": 17
        }
      ]
    },
    {
      "cell_type": "code",
      "source": [
        "missing_value_df.hist();"
      ],
      "metadata": {
        "colab": {
          "base_uri": "https://localhost:8080/",
          "height": 281
        },
        "id": "A01T1wXG3Sld",
        "outputId": "ee879c85-f018-4dc0-f051-39aa1decff3b"
      },
      "execution_count": 18,
      "outputs": [
        {
          "output_type": "display_data",
          "data": {
            "text/plain": [
              "<Figure size 432x288 with 1 Axes>"
            ],
            "image/png": "[encoded data removed]"
          },
          "metadata": {
            "needs_background": "light"
          }
        }
      ]
    },
    {
      "cell_type": "markdown",
      "source": [
        "There is no rule of thumb for choosing missing values threshold to drop columns. Let's define it as: $q_{3} +1.5IQM$. Unfortunately, chance of loosing important information still exists."
      ],
      "metadata": {
        "id": "h0v3Rwdt1pV3"
      }
    },
    {
      "cell_type": "code",
      "source": [
        "IQM = (missing_value_df.percent_missing.quantile(0.75) - missing_value_df.percent_missing.quantile(0.25))\n",
        "threshold = missing_value_df.percent_missing.quantile(0.75) + 1.5*IQM\n",
        "print(threshold)"
      ],
      "metadata": {
        "colab": {
          "base_uri": "https://localhost:8080/"
        },
        "id": "aF1FQa-R4g_k",
        "outputId": "3c14572c-a7c6-46e7-ac55-9d9329b1a35c"
      },
      "execution_count": 19,
      "outputs": [
        {
          "output_type": "stream",
          "name": "stdout",
          "text": [
            "10.204081632653061\n"
          ]
        }
      ]
    },
    {
      "cell_type": "code",
      "source": [
        "mis_cols = missing_value_df[(missing_value_df.percent_missing != 0) & (missing_value_df.percent_missing  < threshold)].index.tolist()"
      ],
      "metadata": {
        "id": "j7rO84YiMnUE"
      },
      "execution_count": 20,
      "outputs": []
    },
    {
      "cell_type": "code",
      "source": [
        "features = missing_value_df.query('percent_missing < @threshold').index.tolist()"
      ],
      "metadata": {
        "id": "JCyFSgBL3Oo9"
      },
      "execution_count": 21,
      "outputs": []
    },
    {
      "cell_type": "markdown",
      "source": [
        "## Impute data\n",
        "Now it's time to impute missing values. Trees can easy handle missing data, but for linear models we should exchange it. Let's use general approch (imputing medianes)."
      ],
      "metadata": {
        "id": "OGAewpsh97WR"
      }
    },
    {
      "cell_type": "code",
      "source": [
        "imp_mean = SimpleImputer( strategy='median')\n",
        "imp_mean.fit(data[features])\n",
        "imputed_data = pd.DataFrame(imp_mean.transform(data[features]), columns=features)\n",
        "imputed_pred = pd.DataFrame(imp_mean.transform(pred[features]), columns=features)"
      ],
      "metadata": {
        "id": "5VdZgjfEP-ar"
      },
      "execution_count": 22,
      "outputs": []
    },
    {
      "cell_type": "markdown",
      "source": [
        "## Get rid of constant data"
      ],
      "metadata": {
        "id": "5GZgn7ZeXdYQ"
      }
    },
    {
      "cell_type": "code",
      "source": [
        "sel = VarianceThreshold(threshold=0)\n",
        "sel.fit(imputed_data)  # fit finds the features with zero variance"
      ],
      "metadata": {
        "colab": {
          "base_uri": "https://localhost:8080/"
        },
        "id": "ZEPppnvBVgx7",
        "outputId": "496033dd-e5ef-4435-bb01-59b414a36fd0"
      },
      "execution_count": 23,
      "outputs": [
        {
          "output_type": "execute_result",
          "data": {
            "text/plain": [
              "VarianceThreshold(threshold=0)"
            ]
          },
          "metadata": {},
          "execution_count": 23
        }
      ]
    },
    {
      "cell_type": "code",
      "source": [
        "# The number of features that are not constant\n",
        "sum(sel.get_support())"
      ],
      "metadata": {
        "colab": {
          "base_uri": "https://localhost:8080/"
        },
        "id": "wIYUHfFwVoG1",
        "outputId": "3a477044-2ac7-478a-f070-07c77ac63324"
      },
      "execution_count": 24,
      "outputs": [
        {
          "output_type": "execute_result",
          "data": {
            "text/plain": [
              "1504"
            ]
          },
          "metadata": {},
          "execution_count": 24
        }
      ]
    },
    {
      "cell_type": "code",
      "source": [
        "names = imputed_data.columns[sel.get_support()].tolist()"
      ],
      "metadata": {
        "id": "HqEA0LtfyMCi"
      },
      "execution_count": 25,
      "outputs": []
    },
    {
      "cell_type": "code",
      "source": [
        "print(f'{imputed_data.shape[1]} colums were before dropping.')\n",
        "\n",
        "clean_data = pd.DataFrame(sel.transform(imputed_data), columns=names)\n",
        "clean_pred = pd.DataFrame(sel.transform(imputed_pred), columns=names)\n",
        "\n",
        "print(f'{clean_data.shape[1]} colums stay after.')"
      ],
      "metadata": {
        "colab": {
          "base_uri": "https://localhost:8080/"
        },
        "id": "SPc0ZeCEXAqi",
        "outputId": "31c0c6ce-5808-4c48-ca26-6f05033ab34a"
      },
      "execution_count": 26,
      "outputs": [
        {
          "output_type": "stream",
          "name": "stdout",
          "text": [
            "1534 colums were before dropping.\n",
            "1504 colums stay after.\n"
          ]
        }
      ]
    },
    {
      "cell_type": "markdown",
      "source": [
        "## Remove low-variance data"
      ],
      "metadata": {
        "id": "k6N3N41ZXxdv"
      }
    },
    {
      "cell_type": "code",
      "source": [
        "sel = VarianceThreshold(threshold=0.01)  # 0.1 indicates 99% of observations approximately\n",
        "sel.fit(clean_data)  # fit finds the features with low variance"
      ],
      "metadata": {
        "colab": {
          "base_uri": "https://localhost:8080/"
        },
        "id": "ZzBrzis5X8cf",
        "outputId": "302067e3-ee37-4027-a84e-9370bf29ad03"
      },
      "execution_count": 27,
      "outputs": [
        {
          "output_type": "execute_result",
          "data": {
            "text/plain": [
              "VarianceThreshold(threshold=0.01)"
            ]
          },
          "metadata": {},
          "execution_count": 27
        }
      ]
    },
    {
      "cell_type": "code",
      "source": [
        "sum(sel.get_support())"
      ],
      "metadata": {
        "colab": {
          "base_uri": "https://localhost:8080/"
        },
        "id": "AsyWDsuMZO1m",
        "outputId": "092650e3-8c35-403c-84ab-7a3ab73d4cb3"
      },
      "execution_count": 28,
      "outputs": [
        {
          "output_type": "execute_result",
          "data": {
            "text/plain": [
              "1504"
            ]
          },
          "metadata": {},
          "execution_count": 28
        }
      ]
    },
    {
      "cell_type": "markdown",
      "source": [
        "No such data."
      ],
      "metadata": {
        "id": "B2wyd699ZU-h"
      }
    },
    {
      "cell_type": "markdown",
      "source": [
        "## Drop highly correlated features"
      ],
      "metadata": {
        "id": "xhJbMSavbYpq"
      }
    },
    {
      "cell_type": "code",
      "source": [
        "%%time\n",
        "\n",
        "# Create correlation matrix\n",
        "corr_matrix = clean_data.corr().abs()\n",
        "\n",
        "# Select upper triangle of correlation matrix\n",
        "upper = corr_matrix.where(np.triu(np.ones(corr_matrix.shape), k=1).astype(np.bool))\n",
        "\n",
        "# Find features with correlation greater than 0.9\n",
        "to_drop = [column for column in upper.columns if any(upper[column] > 0.9)]\n",
        "\n",
        "print(f'{clean_data.shape[1]} colums were before dropping.')\n",
        "\n",
        "# Drop features \n",
        "clean_data.drop(to_drop, axis=1, inplace=True)\n",
        "clean_pred.drop(to_drop, axis=1, inplace=True)\n",
        "\n",
        "print(f'{clean_data.shape[1]} colums stay after.')"
      ],
      "metadata": {
        "colab": {
          "base_uri": "https://localhost:8080/"
        },
        "id": "DHK1q5sUxp3R",
        "outputId": "b5224835-d9ea-479c-a9aa-74564a98699b"
      },
      "execution_count": 29,
      "outputs": [
        {
          "output_type": "stream",
          "name": "stdout",
          "text": [
            "1504 colums were before dropping.\n",
            "437 colums stay after.\n",
            "CPU times: user 906 ms, sys: 17.9 ms, total: 924 ms\n",
            "Wall time: 919 ms\n"
          ]
        }
      ]
    },
    {
      "cell_type": "markdown",
      "source": [
        "## Finally select important features\n",
        "The usual rule of thumb is that there be five or ten times as many samples as variable. So we need about 10 features."
      ],
      "metadata": {
        "id": "_W9BAFRb1JTn"
      }
    },
    {
      "cell_type": "markdown",
      "source": [
        "### First approach\n",
        "Let's use recursive feature elimination with cross-validation to select the number of features. "
      ],
      "metadata": {
        "id": "NCQiggF2ul-k"
      }
    },
    {
      "cell_type": "code",
      "source": [
        "from sklearn.model_selection import ShuffleSplit\n",
        "from sklearn.feature_selection import RFECV"
      ],
      "metadata": {
        "id": "6WsSQYaDq-eh"
      },
      "execution_count": 30,
      "outputs": []
    },
    {
      "cell_type": "code",
      "source": [
        "# Create the RFE object and compute a cross-validated score\n",
        "# We'll use model with hyperparametrs which controlling overfitting \n",
        "m = XGBRegressor(\n",
        "    objective ='reg:squarederror',\n",
        "    max_depth=2,\n",
        "    gamma=2,\n",
        "    eta=0.8,\n",
        "    reg_alpha=0.5,\n",
        "    reg_lambda=0.5\n",
        ")\n",
        "\n",
        "min_features_to_select = 1  # Minimum number of features to consider\n",
        "rfecv = RFECV(\n",
        "    estimator=m,\n",
        "    step=1,\n",
        "    cv=ShuffleSplit(5),\n",
        "    scoring=make_scorer(mean_absolute_percentage_error),\n",
        "    min_features_to_select=min_features_to_select\n",
        ")\n",
        "\n",
        "rfecv.fit(clean_data, target)\n",
        "\n",
        "print(\"Optimal number of features : %d\" % rfecv.n_features_)"
      ],
      "metadata": {
        "colab": {
          "base_uri": "https://localhost:8080/"
        },
        "id": "osSQq7NeCmYs",
        "outputId": "40b16f33-e8dd-4c48-b4db-6f98f0891833"
      },
      "execution_count": 31,
      "outputs": [
        {
          "output_type": "stream",
          "name": "stdout",
          "text": [
            "Optimal number of features : 8\n"
          ]
        }
      ]
    },
    {
      "cell_type": "code",
      "source": [
        "imp_cols_1 = clean_data.columns[rfecv.support_].tolist()"
      ],
      "metadata": {
        "id": "6ZaZvEAcY5se"
      },
      "execution_count": 32,
      "outputs": []
    },
    {
      "cell_type": "code",
      "source": [
        "len(imp_cols_1)"
      ],
      "metadata": {
        "colab": {
          "base_uri": "https://localhost:8080/"
        },
        "id": "1dDR3V9Cp-ms",
        "outputId": "fbd21fb7-37f2-402b-939f-81e509916ae4"
      },
      "execution_count": 33,
      "outputs": [
        {
          "output_type": "execute_result",
          "data": {
            "text/plain": [
              "8"
            ]
          },
          "metadata": {},
          "execution_count": 33
        }
      ]
    },
    {
      "cell_type": "code",
      "source": [
        "imp_cols_1"
      ],
      "metadata": {
        "colab": {
          "base_uri": "https://localhost:8080/"
        },
        "id": "haZeiRbguAlu",
        "outputId": "95851a99-183c-49cf-c9f7-423689c279a0"
      },
      "execution_count": 34,
      "outputs": [
        {
          "output_type": "execute_result",
          "data": {
            "text/plain": [
              "['Суммарное кол-во отзывов в категории \"Хозтоварыидом\" в радиусе 150м',\n",
              " 'Суммарное количество объектов в категории \"Метро_МЦК_ж/д\" в радиусе 150м',\n",
              " 'Средний средний рейтинг объектов в категории \"Общепит\" в радиусе 150м',\n",
              " 'Средний средний рейтинг объектов в категории \"Косметика\" в радиусе 500м',\n",
              " 'Максимальный дневной пешеходный трафик юзеров в радиусе 500м',\n",
              " 'Суммарный утренний автомобильный трафик сигналов резидентов в радиусе 500м',\n",
              " 'Суммарный утренний автомобильный трафик сигналов резидентов в радиусе 700м',\n",
              " 'Суммарный утренний пешеходный трафик сигналов в радиусе 140м']"
            ]
          },
          "metadata": {},
          "execution_count": 34
        }
      ]
    },
    {
      "cell_type": "markdown",
      "source": [
        "### Second approach\n",
        "Let's select 10 features by extra tres's feature importance. And after that choose some of them by brute force on test."
      ],
      "metadata": {
        "id": "yGFz5ECfutHE"
      }
    },
    {
      "cell_type": "code",
      "source": [
        "X_train, X_test, y_train, y_test = train_test_split(\n",
        "        clean_data, target, test_size=.2, random_state=42)"
      ],
      "metadata": {
        "id": "vt3CyizOgNtL"
      },
      "execution_count": 35,
      "outputs": []
    },
    {
      "cell_type": "code",
      "source": [
        "from sklearn.ensemble import ExtraTreesClassifier\n",
        "\n",
        "TOP_FEATURES = 10\n",
        "\n",
        "forest = ExtraTreesClassifier(n_estimators=250, max_depth=5, random_state=1)\n",
        "forest.fit(X_train, y_train)\n",
        "\n",
        "importances = forest.feature_importances_\n",
        "std = np.std(\n",
        "    [tree.feature_importances_ for tree in forest.estimators_],\n",
        "    axis=0\n",
        ")\n",
        "indices = np.argsort(importances)[::-1]\n",
        "indices = indices[:TOP_FEATURES]\n",
        "\n",
        "print('Top features:')\n",
        "for f in range(TOP_FEATURES):\n",
        "    print('%d. feature %d (%f)' % (f + 1, indices[f], importances[indices[f]]))"
      ],
      "metadata": {
        "colab": {
          "base_uri": "https://localhost:8080/"
        },
        "id": "WurIGjDyIY6w",
        "outputId": "650b8ae6-f074-4919-a553-b40625a618cd"
      },
      "execution_count": 36,
      "outputs": [
        {
          "output_type": "stream",
          "name": "stdout",
          "text": [
            "Top features:\n",
            "1. feature 126 (0.013456)\n",
            "2. feature 279 (0.007403)\n",
            "3. feature 420 (0.006579)\n",
            "4. feature 396 (0.006376)\n",
            "5. feature 399 (0.005820)\n",
            "6. feature 139 (0.005814)\n",
            "7. feature 361 (0.005552)\n",
            "8. feature 28 (0.005537)\n",
            "9. feature 384 (0.005483)\n",
            "10. feature 237 (0.005436)\n"
          ]
        }
      ]
    },
    {
      "cell_type": "code",
      "source": [
        "plt.figure()\n",
        "plt.title('Top feature importances')\n",
        "plt.bar(\n",
        "    range(TOP_FEATURES), \n",
        "    importances[indices],\n",
        "    yerr=std[indices], \n",
        ")\n",
        "plt.xticks(range(TOP_FEATURES), indices)\n",
        "plt.show()"
      ],
      "metadata": {
        "colab": {
          "base_uri": "https://localhost:8080/",
          "height": 281
        },
        "id": "QqfnnX0JIh32",
        "outputId": "43e61616-bc1c-4016-e354-cf14b1865e66"
      },
      "execution_count": 37,
      "outputs": [
        {
          "output_type": "display_data",
          "data": {
            "text/plain": [
              "<Figure size 432x288 with 1 Axes>"
            ],
            "image/png": "[encoded data removed]"
          },
          "metadata": {
            "needs_background": "light"
          }
        }
      ]
    },
    {
      "cell_type": "code",
      "source": [
        "top_features = clean_data.columns[indices].tolist()"
      ],
      "metadata": {
        "id": "7GYQQOh6Mb7p"
      },
      "execution_count": 38,
      "outputs": []
    },
    {
      "cell_type": "code",
      "source": [
        "for n, col in enumerate(top_features):\n",
        "  print(f'Top {n+1} feature is {col}.')"
      ],
      "metadata": {
        "colab": {
          "base_uri": "https://localhost:8080/"
        },
        "id": "3S5ZKyHkIh6q",
        "outputId": "ac758fac-3685-41e3-f894-54cf8193849b"
      },
      "execution_count": 39,
      "outputs": [
        {
          "output_type": "stream",
          "name": "stdout",
          "text": [
            "Top 1 feature is Суммарное количество объектов в категории \"АЗС\" в радиусе 500м.\n",
            "Top 2 feature is Средний рабочий мобильный трафик в радиусе 150м heaviside.\n",
            "Top 3 feature is Суммарный вечерний пешеходный трафик юзеров резидентов в радиусе 140м.\n",
            "Top 4 feature is Максимальный вечерний пешеходный трафик юзеров рабочих в радиусе 150м.\n",
            "Top 5 feature is Средний вечерний автомобильный трафик юзеров рабочих в радиусе 150м.\n",
            "Top 6 feature is Суммарное количество объектов в категории \"Сетевыепродукты\" в радиусе 500м.\n",
            "Top 7 feature is Суммарный утренний пешеходный трафик сигналов рабочих в радиусе 500м.\n",
            "Top 8 feature is Суммарное кол-во отзывов в категории \"Банки\" в радиусе 300м.\n",
            "Top 9 feature is Средний дневной пешеходный трафик сигналов рабочих в радиусе 500м.\n",
            "Top 10 feature is Суммарное количество объектов в категории \"Аптеки\" в радиусе 20м.\n"
          ]
        }
      ]
    },
    {
      "cell_type": "code",
      "source": [
        "X_train, X_test = X_train[top_features], X_test[top_features]"
      ],
      "metadata": {
        "id": "_MKcNNC7k42b"
      },
      "execution_count": 40,
      "outputs": []
    },
    {
      "cell_type": "code",
      "source": [
        "%%time\n",
        "\n",
        "indexes = list(itertools.product([0, 1], repeat=TOP_FEATURES))\n",
        "indexes\n",
        "\n",
        "scores_train = dict()\n",
        "scores_test = dict()\n",
        "\n",
        "for i, ind in enumerate(indexes):\n",
        "    ind = np.array(ind, dtype=bool)\n",
        "\n",
        "    X_train_low = X_train.loc[:, ind].values\n",
        "    X_test_low = X_test.loc[:, ind].values\n",
        "\n",
        "    w = np.linalg.inv(X_train_low.T@X_train_low)@X_train_low.T@y_train\n",
        "\n",
        "\n",
        "    scores_train[i] = np.mean((X_train_low@w - y_train)**2)\n",
        "    scores_test[i] = np.mean((X_test_low@w - y_test)**2)\n",
        "\n",
        "best_train = sorted(scores_train, key=lambda x: scores_train[x])[0]\n",
        "best_test = sorted(scores_test, key=lambda x: scores_test[x])[0]\n",
        "\n",
        "print('best for train')\n",
        "print(indexes[best_train])\n",
        "print(X_train.columns[np.array(indexes[best_train], dtype=bool)].tolist())\n",
        "\n",
        "print('best for test')\n",
        "print(indexes[best_test])\n",
        "print(X_test.columns[np.array(indexes[best_test], dtype=bool)].tolist())"
      ],
      "metadata": {
        "colab": {
          "base_uri": "https://localhost:8080/"
        },
        "id": "jIXjEHvUIh_e",
        "outputId": "f9eeba34-b74b-42b3-e855-f5cfc8aca813"
      },
      "execution_count": 41,
      "outputs": [
        {
          "output_type": "stream",
          "name": "stdout",
          "text": [
            "best for train\n",
            "(1, 1, 1, 1, 1, 1, 1, 1, 1, 1)\n",
            "['Суммарное количество объектов в категории \"АЗС\" в радиусе 500м', 'Средний рабочий мобильный трафик в радиусе 150м heaviside', 'Суммарный вечерний пешеходный трафик юзеров резидентов в радиусе 140м', 'Максимальный вечерний пешеходный трафик юзеров рабочих в радиусе 150м', 'Средний вечерний автомобильный трафик юзеров рабочих в радиусе 150м', 'Суммарное количество объектов в категории \"Сетевыепродукты\" в радиусе 500м', 'Суммарный утренний пешеходный трафик сигналов рабочих в радиусе 500м', 'Суммарное кол-во отзывов в категории \"Банки\" в радиусе 300м', 'Средний дневной пешеходный трафик сигналов рабочих в радиусе 500м', 'Суммарное количество объектов в категории \"Аптеки\" в радиусе 20м']\n",
            "best for test\n",
            "(0, 1, 0, 0, 1, 0, 1, 0, 1, 0)\n",
            "['Средний рабочий мобильный трафик в радиусе 150м heaviside', 'Средний вечерний автомобильный трафик юзеров рабочих в радиусе 150м', 'Суммарный утренний пешеходный трафик сигналов рабочих в радиусе 500м', 'Средний дневной пешеходный трафик сигналов рабочих в радиусе 500м']\n",
            "CPU times: user 1.95 s, sys: 1.53 s, total: 3.49 s\n",
            "Wall time: 1.83 s\n"
          ]
        }
      ]
    },
    {
      "cell_type": "code",
      "source": [
        "imp_cols_2 = X_test.columns[np.array(indexes[best_test], dtype=bool)].tolist()"
      ],
      "metadata": {
        "id": "cOIsCeAJIiCe"
      },
      "execution_count": 42,
      "outputs": []
    },
    {
      "cell_type": "code",
      "source": [
        "len(imp_cols_2)"
      ],
      "metadata": {
        "colab": {
          "base_uri": "https://localhost:8080/"
        },
        "id": "fXvbYb36xHNK",
        "outputId": "2be4bdc7-da15-43bf-b890-7fbb43f6398a"
      },
      "execution_count": 43,
      "outputs": [
        {
          "output_type": "execute_result",
          "data": {
            "text/plain": [
              "4"
            ]
          },
          "metadata": {},
          "execution_count": 43
        }
      ]
    },
    {
      "cell_type": "code",
      "source": [
        "imp_cols_2"
      ],
      "metadata": {
        "colab": {
          "base_uri": "https://localhost:8080/"
        },
        "id": "5k5YyleKY_G8",
        "outputId": "25eb49aa-f629-477b-da6c-053bf2fb3099"
      },
      "execution_count": 44,
      "outputs": [
        {
          "output_type": "execute_result",
          "data": {
            "text/plain": [
              "['Средний рабочий мобильный трафик в радиусе 150м heaviside',\n",
              " 'Средний вечерний автомобильный трафик юзеров рабочих в радиусе 150м',\n",
              " 'Суммарный утренний пешеходный трафик сигналов рабочих в радиусе 500м',\n",
              " 'Средний дневной пешеходный трафик сигналов рабочих в радиусе 500м']"
            ]
          },
          "metadata": {},
          "execution_count": 44
        }
      ]
    },
    {
      "cell_type": "markdown",
      "source": [
        "Let's look at both approaches' and unselected top features. "
      ],
      "metadata": {
        "id": "tc79DPpCiqnE"
      }
    },
    {
      "cell_type": "code",
      "source": [
        "imp_cols_1"
      ],
      "metadata": {
        "colab": {
          "base_uri": "https://localhost:8080/"
        },
        "id": "vxInNVJhivr5",
        "outputId": "f5b8ea41-1449-4cba-b672-3b05932c128f"
      },
      "execution_count": 45,
      "outputs": [
        {
          "output_type": "execute_result",
          "data": {
            "text/plain": [
              "['Суммарное кол-во отзывов в категории \"Хозтоварыидом\" в радиусе 150м',\n",
              " 'Суммарное количество объектов в категории \"Метро_МЦК_ж/д\" в радиусе 150м',\n",
              " 'Средний средний рейтинг объектов в категории \"Общепит\" в радиусе 150м',\n",
              " 'Средний средний рейтинг объектов в категории \"Косметика\" в радиусе 500м',\n",
              " 'Максимальный дневной пешеходный трафик юзеров в радиусе 500м',\n",
              " 'Суммарный утренний автомобильный трафик сигналов резидентов в радиусе 500м',\n",
              " 'Суммарный утренний автомобильный трафик сигналов резидентов в радиусе 700м',\n",
              " 'Суммарный утренний пешеходный трафик сигналов в радиусе 140м']"
            ]
          },
          "metadata": {},
          "execution_count": 45
        }
      ]
    },
    {
      "cell_type": "code",
      "source": [
        "imp_cols_2"
      ],
      "metadata": {
        "colab": {
          "base_uri": "https://localhost:8080/"
        },
        "id": "Wxd_VTYmiyyf",
        "outputId": "c353e4da-ba46-42ff-e9a0-f936f2fb5946"
      },
      "execution_count": 46,
      "outputs": [
        {
          "output_type": "execute_result",
          "data": {
            "text/plain": [
              "['Средний рабочий мобильный трафик в радиусе 150м heaviside',\n",
              " 'Средний вечерний автомобильный трафик юзеров рабочих в радиусе 150м',\n",
              " 'Суммарный утренний пешеходный трафик сигналов рабочих в радиусе 500м',\n",
              " 'Средний дневной пешеходный трафик сигналов рабочих в радиусе 500м']"
            ]
          },
          "metadata": {},
          "execution_count": 46
        }
      ]
    },
    {
      "cell_type": "code",
      "source": [
        "top_features"
      ],
      "metadata": {
        "colab": {
          "base_uri": "https://localhost:8080/"
        },
        "id": "wlMNACYGgJFN",
        "outputId": "bade34fa-77da-42ed-c5de-c52f051a973e"
      },
      "execution_count": 47,
      "outputs": [
        {
          "output_type": "execute_result",
          "data": {
            "text/plain": [
              "['Суммарное количество объектов в категории \"АЗС\" в радиусе 500м',\n",
              " 'Средний рабочий мобильный трафик в радиусе 150м heaviside',\n",
              " 'Суммарный вечерний пешеходный трафик юзеров резидентов в радиусе 140м',\n",
              " 'Максимальный вечерний пешеходный трафик юзеров рабочих в радиусе 150м',\n",
              " 'Средний вечерний автомобильный трафик юзеров рабочих в радиусе 150м',\n",
              " 'Суммарное количество объектов в категории \"Сетевыепродукты\" в радиусе 500м',\n",
              " 'Суммарный утренний пешеходный трафик сигналов рабочих в радиусе 500м',\n",
              " 'Суммарное кол-во отзывов в категории \"Банки\" в радиусе 300м',\n",
              " 'Средний дневной пешеходный трафик сигналов рабочих в радиусе 500м',\n",
              " 'Суммарное количество объектов в категории \"Аптеки\" в радиусе 20м']"
            ]
          },
          "metadata": {},
          "execution_count": 47
        }
      ]
    },
    {
      "cell_type": "markdown",
      "source": [
        "We can check up what variant of feature selection will make best result on cross-validation."
      ],
      "metadata": {
        "id": "MheR4yaMghvq"
      }
    },
    {
      "cell_type": "markdown",
      "source": [
        "<a id='4'></a>\n",
        "# Implementing models\n",
        "We'll select classical machine learning algoriths such as linear regresssion, SVR, random forest, extra trees and all kinds of boosting (xgb, lgbm, cat)."
      ],
      "metadata": {
        "id": "iUB6l4vaUzZH"
      }
    },
    {
      "cell_type": "code",
      "source": [
        "class Regression:\n",
        "    \"\"\"\n",
        "    Regression instance contains functions to build forest and\n",
        "    SVR models, expects scaled (for SVR) and unscaled (for others) training data\n",
        "    \"\"\"\n",
        "\n",
        "\n",
        "    def __init__(self, X_train, y_train, X_train_scaled, y_train_scaled):\n",
        "        self.X_train = X_train\n",
        "        self.y_train = y_train\n",
        "        self.X_train_scaled = X_train_scaled\n",
        "        self.y_train_scaled = y_train_scaled\n",
        "        self.scorer = make_scorer(mean_absolute_percentage_error)\n",
        "\n",
        "\n",
        "    def linear(self, verbose=0):\n",
        "        \"\"\"\n",
        "        Construct a linear regressor and calculate the training score using\n",
        "        training data, 5-fold cross validation and a predefined scorer\n",
        "        \"\"\"\n",
        "\n",
        "        linear_regressor = ElasticNet(fit_intercept=True, copy_X=True)\n",
        "        linear_score = np.mean(cross_val_score(\n",
        "            estimator=linear_regressor, X=self.X_train_scaled, y=self.y_train_scaled,\n",
        "            cv=5, scoring=self.scorer))\n",
        "        print('\\nLinear score: ' + str(linear_score))\n",
        "        return linear_regressor\n",
        "\n",
        "\n",
        "    def forest(self):\n",
        "        \"\"\"\n",
        "        Construct a random forest regressor and calculate the training score\n",
        "        using training data and parameter search with 5-fold cross validation\n",
        "        \"\"\"\n",
        "\n",
        "        forest_parameters = [{'n_estimators': Integer(10, 200),\n",
        "                              'max_depth': Integer(2, 7),\n",
        "                              'min_samples_leaf': Integer(2, 10),\n",
        "                              'criterion': ['mae', 'mse'],\n",
        "                              'random_state': [1], 'n_jobs': [-1]}]\n",
        "        forest_search = BayesSearchCV(\n",
        "            estimator=RandomForestRegressor(), search_spaces=forest_parameters,\n",
        "            scoring=self.scorer, cv=5, n_jobs=-1, n_iter=50,\n",
        "            random_state = 1\n",
        "        )\n",
        "        forest_search_result = forest_search.fit(\n",
        "            self.X_train, self.y_train)\n",
        "        best_forest_parameters = dict(forest_search_result.best_params_)\n",
        "        forest_score = forest_search_result.best_score_\n",
        "        print('\\nBest forest params: ' + str(best_forest_parameters))\n",
        "        print('Forest score: ' + str(forest_score))\n",
        "        return RandomForestRegressor(\n",
        "            n_estimators=best_forest_parameters['n_estimators'],\n",
        "            max_depth= best_forest_parameters['max_depth'],\n",
        "            min_samples_leaf=best_forest_parameters['min_samples_leaf'],\n",
        "            criterion=best_forest_parameters['criterion'],\n",
        "            random_state=1, n_jobs=-1)\n",
        "\n",
        "\n",
        "    def extra(self):\n",
        "        \"\"\"\n",
        "        Construct a extra trees regressor and calculate the training score\n",
        "        using training data and parameter search with 5-fold cross validation\n",
        "        \"\"\"\n",
        "\n",
        "        forest_parameters = [{'n_estimators': Integer(10, 200),\n",
        "                              'max_depth': Integer(2, 7),\n",
        "                              'min_samples_leaf': Integer(2, 10),\n",
        "                              'criterion': ['mae', 'mse'],\n",
        "                              'random_state': [1], 'n_jobs': [-1]}]\n",
        "        forest_search = BayesSearchCV(\n",
        "            estimator=ExtraTreesRegressor(), search_spaces=forest_parameters,\n",
        "            scoring=self.scorer, cv=5, n_jobs=-1, n_iter=50,\n",
        "            random_state = 1\n",
        "        )\n",
        "        forest_search_result = forest_search.fit(\n",
        "            self.X_train, self.y_train)\n",
        "        best_forest_parameters = dict(forest_search_result.best_params_)\n",
        "        forest_score = forest_search_result.best_score_\n",
        "        print('\\nBest extra trees params: ' + str(best_forest_parameters))\n",
        "        print('Extra trees score: ' + str(forest_score))\n",
        "        return ExtraTreesRegressor(\n",
        "            n_estimators=best_forest_parameters['n_estimators'],\n",
        "            max_depth= best_forest_parameters['max_depth'],\n",
        "            min_samples_leaf=best_forest_parameters['min_samples_leaf'],\n",
        "            criterion=best_forest_parameters['criterion'],\n",
        "            random_state=1, n_jobs=-1)\n",
        "\n",
        "\n",
        "    def svr(self):\n",
        "        \"\"\"\n",
        "        Construct a support vector regressor and calculate the training score\n",
        "        using scaled training data and parameter search\n",
        "        with 5-fold cross validation\n",
        "        \"\"\"\n",
        "\n",
        "        svr_parameters = [{'kernel': ['linear', 'rbf'],\n",
        "                           'C': Real(0.1, 10),\n",
        "                           'epsilon': Real(0.01, 1),\n",
        "                           'gamma': ['scale']},\n",
        "                          {'kernel': ['poly'],\n",
        "                           'degree': Integer(2, 5),\n",
        "                           'C': Real(0.1, 10),\n",
        "                           'epsilon': Real(0.01, 1),\n",
        "                           'gamma': ['scale']}]\n",
        "        svr_search = BayesSearchCV(\n",
        "            estimator=SVR(), search_spaces=svr_parameters,\n",
        "            scoring=self.scorer, cv=5, n_jobs=-1, n_iter=50,\n",
        "            random_state = 1\n",
        "        )\n",
        "        svr_search_result = svr_search.fit(\n",
        "            self.X_train_scaled, self.y_train_scaled)\n",
        "        best_svr_parameters = dict(svr_search_result.best_params_)\n",
        "        svr_score = svr_search_result.best_score_\n",
        "        print('\\nBest SVR params: ' + str(best_svr_parameters))\n",
        "        print('SVR score: ' + str(svr_score))\n",
        "        if best_svr_parameters['kernel'] == 'poly':\n",
        "            svr_regressor = SVR(kernel=best_svr_parameters['kernel'],\n",
        "                                degree=best_svr_parameters['degree'],\n",
        "                                C=best_svr_parameters['C'],\n",
        "                                epsilon=best_svr_parameters['epsilon'],\n",
        "                                gamma='scale')\n",
        "        else:\n",
        "            svr_regressor = SVR(kernel=best_svr_parameters['kernel'],\n",
        "                                C=best_svr_parameters['C'],\n",
        "                                epsilon=best_svr_parameters['epsilon'],\n",
        "                                gamma='scale')\n",
        "        return svr_regressor\n",
        "\n",
        "\n",
        "    def xgb(self):\n",
        "        \"\"\"\n",
        "        Construct a gradient boosting regressor and calculate the training score\n",
        "        using training data and parameter search with 5-fold cross validation\n",
        "        \"\"\"\n",
        "\n",
        "        estimator = XGBRegressor(booster='gbtree', objective='reg:squarederror')\n",
        "        # Bayes Search\n",
        "        xgb_parameters = {\n",
        "            'n_estimators': Integer(50, 200),\n",
        "            'learning_rate': Real(0.05, 0.5),\n",
        "            'min_split_loss': Real(0.1, 0.5),\n",
        "            'max_depth': Integer(3, 5),\n",
        "            'min_child_weight': Integer(1, 5),\n",
        "            'gamma': Real(0.1, 1),\n",
        "            'reg_lambda': Integer(1, 10),\n",
        "            'random_state': [1]\n",
        "        }\n",
        "        xgb_search = BayesSearchCV(\n",
        "            estimator=estimator, search_spaces=xgb_parameters,\n",
        "            scoring=self.scorer, cv=5, n_jobs=-1, n_iter=50,\n",
        "            random_state = 1\n",
        "        )\n",
        "        xgb_search_result = xgb_search.fit(\n",
        "          self.X_train, self.y_train)\n",
        "        best_xgb_parameters = dict(xgb_search_result.best_params_)\n",
        "        xgb_score = xgb_search_result.best_score_\n",
        "\n",
        "        print('\\nBest XGB params: ' + str(best_xgb_parameters))\n",
        "        print('XGB score: ' + str(xgb_score))\n",
        "\n",
        "        return XGBRegressor(\n",
        "            booster='gbtree', objective='reg:squarederror',\n",
        "            n_estimators=best_xgb_parameters['n_estimators'],\n",
        "            learning_rate=best_xgb_parameters['learning_rate'],\n",
        "            min_split_loss=best_xgb_parameters['min_split_loss'],\n",
        "            max_depth=best_xgb_parameters['max_depth'],\n",
        "            min_child_weight=best_xgb_parameters['min_child_weight'],\n",
        "            gamma=best_xgb_parameters['gamma'],\n",
        "            reg_lambda=best_xgb_parameters['reg_lambda'],\n",
        "            random_state=1)\n",
        "\n",
        "\n",
        "    def cat(self):\n",
        "        \"\"\"\n",
        "        Construct a gradient boosting regressor and calculate the training score\n",
        "        using training data and parameter search with 5-fold cross validation\n",
        "        \"\"\"\n",
        "\n",
        "        cats = list(self.X_train.select_dtypes('object').columns)\n",
        "        estimator = CatBoostRegressor(loss_function='RMSE', cat_features=cats,\n",
        "                                      random_state=1, verbose=0)\n",
        "\n",
        "        cat_parameters = {\n",
        "            'n_estimators': Integer(10, 200),\n",
        "            'max_depth': Integer(2, 10),\n",
        "            'learning_rate': Real(0.01, 0.1),\n",
        "            'random_strength': Real(1, 10),\n",
        "            'random_state': [1]\n",
        "        }\n",
        "        cat_search = BayesSearchCV(\n",
        "            estimator=estimator, search_spaces=cat_parameters,\n",
        "            scoring=self.scorer, cv=5, n_jobs=-1, n_iter=50,\n",
        "            random_state = 1\n",
        "        )\n",
        "        cat_search_result = cat_search.fit(\n",
        "            self.X_train, self.y_train)\n",
        "        best_cat_parameters = dict(cat_search_result.best_params_)\n",
        "        cat_score = cat_search_result.best_score_\n",
        "\n",
        "        print('\\nBest Cat params: ' + str(best_cat_parameters))\n",
        "        print('Cat score: ' + str(cat_score))\n",
        "\n",
        "        return CatBoostRegressor(\n",
        "            loss_function='RMSE', cat_features=cats,\n",
        "            n_estimators=best_cat_parameters['n_estimators'],\n",
        "            max_depth=best_cat_parameters['max_depth'],\n",
        "            learning_rate=best_cat_parameters['learning_rate'],\n",
        "            random_strength=best_cat_parameters['random_strength'],\n",
        "            random_state=1, verbose=0)\n",
        "\n",
        "\n",
        "    def lgbm(self):\n",
        "        \"\"\"\n",
        "        Construct a gradient boosting regressor and calculate the training score\n",
        "        using training data and parameter search with 5-fold cross validation\n",
        "        \"\"\"\n",
        "        estimator = LGBMRegressor(objective='regression')\n",
        "\n",
        "        # Bayes Search\n",
        "        lgbm_parameters = {\n",
        "            'n_estimators': Integer(10, 200),\n",
        "            'learning_rate': Real(0.05, 0.5),\n",
        "            'max_depth': Integer(5, 10),\n",
        "            'random_state': [1]\n",
        "        }\n",
        "        lgbm_search = BayesSearchCV(\n",
        "            estimator=estimator, search_spaces=lgbm_parameters,\n",
        "            scoring=self.scorer, cv=5, n_jobs=-1, n_iter=50,\n",
        "            random_state = 1\n",
        "        )\n",
        "        lgbm_search_result = lgbm_search.fit(\n",
        "          self.X_train, self.y_train)\n",
        "        best_lgbm_parameters = dict(lgbm_search_result.best_params_)\n",
        "        lgbm_score = lgbm_search_result.best_score_\n",
        "\n",
        "        print('\\nBest LGBM params: ' + str(best_lgbm_parameters))\n",
        "        print('LGBM score: ' + str(lgbm_score))\n",
        "\n",
        "        return LGBMRegressor(\n",
        "            objective='regression',\n",
        "            boosting_type='gbdt', \n",
        "            n_estimators=best_lgbm_parameters['n_estimators'],\n",
        "            learning_rate=best_lgbm_parameters['learning_rate'],\n",
        "            max_depth=best_lgbm_parameters['max_depth'],\n",
        "            random_state=1)\n"
      ],
      "metadata": {
        "id": "uMi57hNatAXW"
      },
      "execution_count": 48,
      "outputs": []
    },
    {
      "cell_type": "markdown",
      "source": [
        "<a id='6'></a>\n",
        "# Secondary functions"
      ],
      "metadata": {
        "id": "PkGQguFsPEUG"
      }
    },
    {
      "cell_type": "code",
      "source": [
        "def scale(X, y, X_train, y_train, X_test, y_test, X_pred):\n",
        "    \"\"\"Scale dependent and independent variables\"\"\"\n",
        "    X_scaler, y_scaler = StandardScaler(), StandardScaler()\n",
        "\n",
        "    X_scaled = X_scaler.fit_transform(X.values.astype(float))\n",
        "    y_scaled = y_scaler.fit_transform(\n",
        "        y.values.astype(float).reshape(-1, 1)).flatten()\n",
        "\n",
        "    X_train_scaled = pd.DataFrame(data=X_scaler.transform(\n",
        "        X_train.values.astype(float)), columns=X.columns)\n",
        "    y_train_scaled = y_scaler.transform(\n",
        "        y_train.values.astype(float).reshape(-1, 1)).flatten()\n",
        "\n",
        "    X_test_scaled = pd.DataFrame(data=X_scaler.transform(\n",
        "        X_test.values.astype(float)), columns=X.columns)\n",
        "    X_pred_scaled = pd.DataFrame(data=X_scaler.transform(\n",
        "        X_pred.values.astype(float)), columns=X.columns)\n",
        "\n",
        "    return [X, y, X_train, y_train, X_test, y_test, X_scaled, y_scaled,\n",
        "     X_train_scaled, y_train_scaled, X_test_scaled, X_pred, X_pred_scaled, y_scaler, X_scaler]"
      ],
      "metadata": {
        "id": "QVUrtFLPPoS3"
      },
      "execution_count": 49,
      "outputs": []
    },
    {
      "cell_type": "code",
      "source": [
        "def build(X_train, y_train, X_train_scaled, y_train_scaled, models):\n",
        "    \"\"\"Build and return regression models\"\"\"\n",
        "    regression = Regression(X_train, y_train, X_train_scaled, y_train_scaled)\n",
        "    regressors = []\n",
        "    for model in models:\n",
        "        regressors.append(getattr(regression, model)())\n",
        "    return regressors"
      ],
      "metadata": {
        "id": "B7axOE2NcOCv"
      },
      "execution_count": 50,
      "outputs": []
    },
    {
      "cell_type": "code",
      "source": [
        "def evaluate(regressors, X_train, y_train, X_train_scaled, y_train_scaled,\n",
        "             X_test, y_test, X_test_scaled, y_scaler):\n",
        "    \"\"\"\n",
        "    Evaluate models by fitting on full training set and\n",
        "    calculating training and test accuracies;\n",
        "    return best regressor\n",
        "    \"\"\"\n",
        "\n",
        "    training_accuracies = []\n",
        "    test_accuracies = []\n",
        "    for regressor in regressors:\n",
        "        print('-----'*10)\n",
        "        print(regressor)\n",
        "        if ('svr' or 'linear') in str(regressor):\n",
        "            regressor.fit(X_train_scaled, y_train_scaled)\n",
        "            training_accuracy = mean_absolute_percentage_error(\n",
        "                y_scaler.inverse_transform(regressor.predict(X_train_scaled).reshape(-1,1)).flatten(), y_train)\n",
        "            test_accuracy = mean_absolute_percentage_error(\n",
        "                y_scaler.inverse_transform(regressor.predict(\n",
        "                    X_test_scaled).reshape(-1,1)).flatten(), y_test)\n",
        "        else:\n",
        "            regressor.fit(X_train, y_train)\n",
        "            training_accuracy = mean_absolute_percentage_error(\n",
        "                regressor.predict(X_train), y_train)\n",
        "            test_accuracy = mean_absolute_percentage_error(\n",
        "                regressor.predict(X_test), y_test)\n",
        "\n",
        "        print(str(regressor).split('(')[0].split('.')[0].replace('<', '') +\n",
        "              '_train_MAPE: ' + str(training_accuracy))\n",
        "        print(str(regressor).split('(')[0].split('.')[0].replace('<', '') +\n",
        "              '_test_MAPE: ' + str(test_accuracy))\n",
        "\n",
        "        training_accuracies.append(-1*training_accuracy)\n",
        "        test_accuracies.append(-1*test_accuracy)\n",
        "\n",
        "    return regressors[test_accuracies.index(max(test_accuracies))]"
      ],
      "metadata": {
        "id": "JACwlH2WM-Gx"
      },
      "execution_count": 51,
      "outputs": []
    },
    {
      "cell_type": "code",
      "source": [
        "def make_predictions(regressor, X, X_scaled, y_scaler, variant):\n",
        "    \"\"\"Print actuals and predictions\"\"\"\n",
        "\n",
        "    if ('svr' or 'linear') in str(regressor):\n",
        "        predictions = y_scaler.inverse_transform(\n",
        "            regressor.predict(X_scaled).reshape(-1,1)).round(0)\n",
        "    else:\n",
        "        predictions = regressor.predict(X).round(0)\n",
        "    \n",
        "    sub = pd.read_excel('форма для заполнения.xlsx')\n",
        "    sub['target predicted'] = predictions\n",
        "    sub.to_csv(f'submission_{variant}.csv')\n",
        "    print('\\nPrediction is saved')\n",
        "\n",
        "    print('\\nPredictions:')\n",
        "    for prediction in predictions:\n",
        "        print(prediction)"
      ],
      "metadata": {
        "id": "ENPtdcsva2Ge"
      },
      "execution_count": 52,
      "outputs": []
    },
    {
      "cell_type": "code",
      "source": [
        "def pipline(X, y, X_pred, variant, \\\n",
        "            models=['linear', 'svr', 'forest', 'extra', 'lgbm', 'xgb']):\n",
        "    \"\"\"Complete training pipeline\"\"\"\n",
        "\n",
        "    X_train, X_test, y_train, y_test = train_test_split(\n",
        "        X, y, test_size=.2, random_state=1)\n",
        "    [X, y, X_train, y_train, X_test, y_test, X_scaled, y_scaled,\n",
        "     X_train_scaled, y_train_scaled, X_test_scaled, X_pred, X_pred_scaled, y_scaler, X_scaler] \\\n",
        "        = scale(X, y, X_train, y_train, X_test, y_test, X_pred)\n",
        "    print('Data preprocessed.')\n",
        "\n",
        "\n",
        "    regressors = build(X_train, y_train, X_train_scaled, y_train_scaled, models)\n",
        "\n",
        "    best_regressor = evaluate(regressors, X_train, y_train, X_train_scaled,\n",
        "                              y_train_scaled, X_test, y_test, X_test_scaled,\n",
        "                              y_scaler)\n",
        "    \n",
        "    print('Regressors evaluated. Best regressor is:\\n' + str(best_regressor))\n",
        "\n",
        "    if ('svr' or 'linear') in str(best_regressor):\n",
        "        best_regressor.fit(X_scaled, y_scaled)\n",
        "    else:\n",
        "        best_regressor.fit(X, y)\n",
        "    print('\\nRegressor fit.')\n",
        "\n",
        "    make_predictions(best_regressor, X_pred, X_pred_scaled, y_scaler, variant)"
      ],
      "metadata": {
        "id": "7D1QUJ6aNFln"
      },
      "execution_count": 53,
      "outputs": []
    },
    {
      "cell_type": "markdown",
      "source": [
        "# All together"
      ],
      "metadata": {
        "id": "x69bIGty8a9s"
      }
    },
    {
      "cell_type": "code",
      "source": [
        "variants = ['rfecv', 'et_and_bf', 'et']\n",
        "columns = [imp_cols_1, imp_cols_2, top_features]"
      ],
      "metadata": {
        "id": "Qx55auH8h26s"
      },
      "execution_count": 54,
      "outputs": []
    },
    {
      "cell_type": "code",
      "source": [
        "for var, col in zip(variants, columns):\n",
        "  X, y, X_pred = clean_data[col], target, clean_pred[col]\n",
        "  print('*****'*10)\n",
        "  print(f'\\n{var} at work with {len(col)} columns!\\n')\n",
        "  pipline(X, y, X_pred, var)"
      ],
      "metadata": {
        "colab": {
          "base_uri": "https://localhost:8080/"
        },
        "id": "c_pAfKV9h8F_",
        "outputId": "341af168-a156-4b16-e48d-491693cb06e3"
      },
      "execution_count": 55,
      "outputs": [
        {
          "output_type": "stream",
          "name": "stdout",
          "text": [
            "**************************************************\n",
            "\n",
            "rfecv at work with 8 columns!\n",
            "\n",
            "Data preprocessed.\n",
            "\n",
            "Linear score: 1.0596642662742952\n",
            "\n",
            "Best SVR params: {'C': 10.0, 'degree': 4, 'epsilon': 0.01, 'gamma': 'scale', 'kernel': 'poly'}\n",
            "SVR score: 3.0337026008229593\n",
            "\n",
            "Best forest params: {'criterion': 'mae', 'max_depth': 2, 'min_samples_leaf': 2, 'n_estimators': 200, 'n_jobs': -1, 'random_state': 1}\n",
            "Forest score: 0.08596583903820743\n",
            "\n",
            "Best extra trees params: {'criterion': 'mse', 'max_depth': 7, 'min_samples_leaf': 3, 'n_estimators': 99, 'n_jobs': -1, 'random_state': 1}\n",
            "Extra trees score: 0.09213745274906812\n",
            "\n",
            "Best LGBM params: {'learning_rate': 0.5, 'max_depth': 10, 'n_estimators': 200, 'random_state': 1}\n",
            "LGBM score: 0.11446052549600516\n",
            "\n",
            "Best XGB params: {'gamma': 0.1, 'learning_rate': 0.5, 'max_depth': 5, 'min_child_weight': 1, 'min_split_loss': 0.14712464022626767, 'n_estimators': 50, 'random_state': 1, 'reg_lambda': 1}\n",
            "XGB score: 0.10606629411577624\n",
            "--------------------------------------------------\n",
            "ElasticNet()\n",
            "ElasticNet_train_MAPE: 0.07936173484826733\n",
            "ElasticNet_test_MAPE: 0.1033182798093974\n",
            "--------------------------------------------------\n",
            "SVR(C=10.0, degree=4, epsilon=0.01, kernel='poly')\n",
            "SVR_train_MAPE: 0.0876625454431839\n",
            "SVR_test_MAPE: 0.12633755588121628\n",
            "--------------------------------------------------\n",
            "RandomForestRegressor(criterion='mae', max_depth=2, min_samples_leaf=2,\n",
            "                      n_estimators=200, n_jobs=-1, random_state=1)\n",
            "RandomForestRegressor_train_MAPE: 0.06649312321771335\n",
            "RandomForestRegressor_test_MAPE: 0.10312372333942293\n",
            "--------------------------------------------------\n",
            "ExtraTreesRegressor(criterion='mse', max_depth=7, min_samples_leaf=3,\n",
            "                    n_estimators=99, n_jobs=-1, random_state=1)\n",
            "ExtraTreesRegressor_train_MAPE: 0.05548859945946724\n",
            "ExtraTreesRegressor_test_MAPE: 0.10208045618683613\n",
            "--------------------------------------------------\n",
            "LGBMRegressor(learning_rate=0.5, max_depth=10, n_estimators=200,\n",
            "              objective='regression', random_state=1)\n",
            "LGBMRegressor_train_MAPE: 0.029889018078679733\n",
            "LGBMRegressor_test_MAPE: 0.09736957467483998\n",
            "--------------------------------------------------\n",
            "XGBRegressor(gamma=0.1, learning_rate=0.5, max_depth=5,\n",
            "             min_split_loss=0.14712464022626767, n_estimators=50,\n",
            "             objective='reg:squarederror', random_state=1)\n",
            "XGBRegressor_train_MAPE: 0.002515219617220601\n",
            "XGBRegressor_test_MAPE: 0.08681527773042866\n",
            "Regressors evaluated. Best regressor is:\n",
            "XGBRegressor(gamma=0.1, learning_rate=0.5, max_depth=5,\n",
            "             min_split_loss=0.14712464022626767, n_estimators=50,\n",
            "             objective='reg:squarederror', random_state=1)\n",
            "\n",
            "Regressor fit.\n",
            "\n",
            "Prediction is saved\n",
            "\n",
            "Predictions:\n",
            "1559614.0\n",
            "1228190.0\n",
            "1448105.0\n",
            "1445050.0\n",
            "1463387.0\n",
            "1329770.0\n",
            "1445912.0\n",
            "1510028.0\n",
            "1443798.0\n",
            "1347950.0\n",
            "**************************************************\n",
            "\n",
            "et_and_bf at work with 4 columns!\n",
            "\n",
            "Data preprocessed.\n",
            "\n",
            "Linear score: 1.0596642662742952\n",
            "\n",
            "Best SVR params: {'C': 10.0, 'degree': 5, 'epsilon': 1.0, 'gamma': 'scale', 'kernel': 'poly'}\n",
            "SVR score: 3.942183692887261\n",
            "\n",
            "Best forest params: {'criterion': 'mse', 'max_depth': 7, 'min_samples_leaf': 2, 'n_estimators': 92, 'n_jobs': -1, 'random_state': 1}\n",
            "Forest score: 0.09796544002002192\n",
            "\n",
            "Best extra trees params: {'criterion': 'mae', 'max_depth': 6, 'min_samples_leaf': 2, 'n_estimators': 10, 'n_jobs': -1, 'random_state': 1}\n",
            "Extra trees score: 0.0974722228433171\n",
            "\n",
            "Best LGBM params: {'learning_rate': 0.5, 'max_depth': 5, 'n_estimators': 200, 'random_state': 1}\n",
            "LGBM score: 0.10464712360652162\n",
            "\n",
            "Best XGB params: {'gamma': 1.0, 'learning_rate': 0.31738648569097666, 'max_depth': 3, 'min_child_weight': 5, 'min_split_loss': 0.15596737214365736, 'n_estimators': 200, 'random_state': 1, 'reg_lambda': 2}\n",
            "XGB score: 0.13533333872878706\n",
            "--------------------------------------------------\n",
            "ElasticNet()\n",
            "ElasticNet_train_MAPE: 0.09039999825530823\n",
            "ElasticNet_test_MAPE: 0.135026815435331\n",
            "--------------------------------------------------\n",
            "SVR(C=10.0, degree=5, epsilon=1.0, kernel='poly')\n",
            "SVR_train_MAPE: 0.09150794218666598\n",
            "SVR_test_MAPE: 0.13666219077397043\n",
            "--------------------------------------------------\n",
            "RandomForestRegressor(criterion='mse', max_depth=7, min_samples_leaf=2,\n",
            "                      n_estimators=92, n_jobs=-1, random_state=1)\n",
            "RandomForestRegressor_train_MAPE: 0.04868224757904931\n",
            "RandomForestRegressor_test_MAPE: 0.13649203408075125\n",
            "--------------------------------------------------\n",
            "ExtraTreesRegressor(criterion='mae', max_depth=6, min_samples_leaf=2,\n",
            "                    n_estimators=10, n_jobs=-1, random_state=1)\n",
            "ExtraTreesRegressor_train_MAPE: 0.058855590707094105\n",
            "ExtraTreesRegressor_test_MAPE: 0.13495853340432584\n",
            "--------------------------------------------------\n",
            "LGBMRegressor(learning_rate=0.5, max_depth=5, n_estimators=200,\n",
            "              objective='regression', random_state=1)\n",
            "LGBMRegressor_train_MAPE: 0.053196142390445074\n",
            "LGBMRegressor_test_MAPE: 0.14008357599136134\n",
            "--------------------------------------------------\n",
            "XGBRegressor(gamma=1.0, learning_rate=0.31738648569097666, min_child_weight=5,\n",
            "             min_split_loss=0.15596737214365736, n_estimators=200,\n",
            "             objective='reg:squarederror', random_state=1, reg_lambda=2)\n",
            "XGBRegressor_train_MAPE: 0.0072362896313236365\n",
            "XGBRegressor_test_MAPE: 0.12592254271893738\n",
            "Regressors evaluated. Best regressor is:\n",
            "XGBRegressor(gamma=1.0, learning_rate=0.31738648569097666, min_child_weight=5,\n",
            "             min_split_loss=0.15596737214365736, n_estimators=200,\n",
            "             objective='reg:squarederror', random_state=1, reg_lambda=2)\n",
            "\n",
            "Regressor fit.\n",
            "\n",
            "Prediction is saved\n",
            "\n",
            "Predictions:\n",
            "1352777.0\n",
            "1481572.0\n",
            "1193587.0\n",
            "1309248.0\n",
            "1323308.0\n",
            "1335098.0\n",
            "1290270.0\n",
            "1319518.0\n",
            "1259746.0\n",
            "1569750.0\n",
            "**************************************************\n",
            "\n",
            "et at work with 10 columns!\n",
            "\n",
            "Data preprocessed.\n",
            "\n",
            "Linear score: 1.0596642662742952\n",
            "\n",
            "Best SVR params: {'C': 10.0, 'degree': 2, 'epsilon': 0.01, 'gamma': 'scale', 'kernel': 'poly'}\n",
            "SVR score: 2.7861521781195324\n",
            "\n",
            "Best forest params: {'criterion': 'mse', 'max_depth': 6, 'min_samples_leaf': 3, 'n_estimators': 10, 'n_jobs': -1, 'random_state': 1}\n",
            "Forest score: 0.10306139366845188\n",
            "\n",
            "Best extra trees params: {'criterion': 'mse', 'max_depth': 7, 'min_samples_leaf': 4, 'n_estimators': 10, 'n_jobs': -1, 'random_state': 1}\n",
            "Extra trees score: 0.10303240592983516\n",
            "\n",
            "Best LGBM params: {'learning_rate': 0.5, 'max_depth': 10, 'n_estimators': 200, 'random_state': 1}\n",
            "LGBM score: 0.11358002283787368\n",
            "\n",
            "Best XGB params: {'gamma': 0.7885705133798084, 'learning_rate': 0.23802875966271325, 'max_depth': 3, 'min_child_weight': 5, 'min_split_loss': 0.21763281217042507, 'n_estimators': 200, 'random_state': 1, 'reg_lambda': 9}\n",
            "XGB score: 0.13507943895416707\n",
            "--------------------------------------------------\n",
            "ElasticNet()\n",
            "ElasticNet_train_MAPE: 0.08684312663412923\n",
            "ElasticNet_test_MAPE: 0.14183569731593598\n",
            "--------------------------------------------------\n",
            "SVR(C=10.0, degree=2, epsilon=0.01, kernel='poly')\n",
            "SVR_train_MAPE: 0.09269723976239652\n",
            "SVR_test_MAPE: 0.13778435812389098\n",
            "--------------------------------------------------\n",
            "RandomForestRegressor(criterion='mse', max_depth=6, min_samples_leaf=3,\n",
            "                      n_estimators=10, n_jobs=-1, random_state=1)\n",
            "RandomForestRegressor_train_MAPE: 0.053403101290861545\n",
            "RandomForestRegressor_test_MAPE: 0.13965214076111576\n",
            "--------------------------------------------------\n",
            "ExtraTreesRegressor(criterion='mse', max_depth=7, min_samples_leaf=4,\n",
            "                    n_estimators=10, n_jobs=-1, random_state=1)\n",
            "ExtraTreesRegressor_train_MAPE: 0.06801067931628423\n",
            "ExtraTreesRegressor_test_MAPE: 0.1473179388192368\n",
            "--------------------------------------------------\n",
            "LGBMRegressor(learning_rate=0.5, max_depth=10, n_estimators=200,\n",
            "              objective='regression', random_state=1)\n",
            "LGBMRegressor_train_MAPE: 0.03908157772410008\n",
            "LGBMRegressor_test_MAPE: 0.17376431582526258\n",
            "--------------------------------------------------\n",
            "XGBRegressor(gamma=0.7885705133798084, learning_rate=0.23802875966271325,\n",
            "             min_child_weight=5, min_split_loss=0.21763281217042507,\n",
            "             n_estimators=200, objective='reg:squarederror', random_state=1,\n",
            "             reg_lambda=9)\n",
            "XGBRegressor_train_MAPE: 0.009143373545430681\n",
            "XGBRegressor_test_MAPE: 0.12905490311094145\n",
            "Regressors evaluated. Best regressor is:\n",
            "XGBRegressor(gamma=0.7885705133798084, learning_rate=0.23802875966271325,\n",
            "             min_child_weight=5, min_split_loss=0.21763281217042507,\n",
            "             n_estimators=200, objective='reg:squarederror', random_state=1,\n",
            "             reg_lambda=9)\n",
            "\n",
            "Regressor fit.\n",
            "\n",
            "Prediction is saved\n",
            "\n",
            "Predictions:\n",
            "1446157.0\n",
            "1341015.0\n",
            "1266741.0\n",
            "1425224.0\n",
            "1392458.0\n",
            "1245103.0\n",
            "1296318.0\n",
            "1326980.0\n",
            "1273249.0\n",
            "1623435.0\n"
          ]
        }
      ]
    },
    {
      "cell_type": "markdown",
      "source": [
        "Variant 'rfecv' (1st approch) shows best result on test with XGBoost (it seems that overfitting occurs on train, but test result are close to cv result and better then others). The used columns are below. "
      ],
      "metadata": {
        "id": "mOuEoksTafuy"
      }
    },
    {
      "cell_type": "code",
      "source": [
        "imp_cols_1"
      ],
      "metadata": {
        "colab": {
          "base_uri": "https://localhost:8080/"
        },
        "id": "YeEgkoAsmJa-",
        "outputId": "2a9f5273-931c-4da2-acd8-1027a70c9d42"
      },
      "execution_count": 56,
      "outputs": [
        {
          "output_type": "execute_result",
          "data": {
            "text/plain": [
              "['Суммарное кол-во отзывов в категории \"Хозтоварыидом\" в радиусе 150м',\n",
              " 'Суммарное количество объектов в категории \"Метро_МЦК_ж/д\" в радиусе 150м',\n",
              " 'Средний средний рейтинг объектов в категории \"Общепит\" в радиусе 150м',\n",
              " 'Средний средний рейтинг объектов в категории \"Косметика\" в радиусе 500м',\n",
              " 'Максимальный дневной пешеходный трафик юзеров в радиусе 500м',\n",
              " 'Суммарный утренний автомобильный трафик сигналов резидентов в радиусе 500м',\n",
              " 'Суммарный утренний автомобильный трафик сигналов резидентов в радиусе 700м',\n",
              " 'Суммарный утренний пешеходный трафик сигналов в радиусе 140м']"
            ]
          },
          "metadata": {},
          "execution_count": 56
        }
      ]
    },
    {
      "cell_type": "markdown",
      "source": [
        "The majority of features are about movement information of people. But some features are more related to one sex: 'Средний средний рейтинг объектов в категории \"Косметика\" в радиусе 500м', 'Суммарное кол-во отзывов в категории \"Хозтоварыидом\" в радиусе 150м'. This is agreed with prior information about than the main part of consumers are female. From common sense it says that column were chosen rightly. "
      ],
      "metadata": {
        "id": "rAIe2zXJqrYU"
      }
    },
    {
      "cell_type": "code",
      "source": [
        "def corr_m(df):\n",
        "  corr = df.corr()\n",
        "  plt.figure(figsize=(11,8))\n",
        "  sns.heatmap(corr, cmap=\"Greens\",annot=True)\n",
        "  plt.show()"
      ],
      "metadata": {
        "id": "GsTeuID0p0n2"
      },
      "execution_count": 62,
      "outputs": []
    },
    {
      "cell_type": "code",
      "source": [
        "corr_m(clean_data[imp_cols_1])"
      ],
      "metadata": {
        "colab": {
          "base_uri": "https://localhost:8080/",
          "height": 920
        },
        "id": "6SdMiY-BmmcV",
        "outputId": "f1779862-6eaa-4f56-d3c0-612860ea0b02"
      },
      "execution_count": 63,
      "outputs": [
        {
          "output_type": "display_data",
          "data": {
            "text/plain": [
              "<Figure size 792x576 with 2 Axes>"
            ],
            "image/png": "[encoded data removed]"
          },
          "metadata": {
            "needs_background": "light"
          }
        }
      ]
    },
    {
      "cell_type": "markdown",
      "source": [
        "And also threre is no very highly correlated data (>0.8)."
      ],
      "metadata": {
        "id": "JuRaeU6OqK5d"
      }
    }
  ]
}