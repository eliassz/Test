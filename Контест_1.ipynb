{
 "cells": [
  {
   "cell_type": "markdown",
   "metadata": {
    "tags": []
   },
   "source": [
    "# Контест: направление BI (Business Intelligence)"
   ]
  },
  {
   "cell_type": "markdown",
   "metadata": {},
   "source": [
    "# Школа: AI Masters"
   ]
  },
  {
   "cell_type": "markdown",
   "metadata": {
    "id": "33UDInFPuFFi"
   },
   "source": [
    "# SQL"
   ]
  },
  {
   "cell_type": "markdown",
   "metadata": {
    "id": "a52VrEz0glrR"
   },
   "source": [
    "\n",
    "В таблице находятся данные по платежам клиентов.   \n",
    "Имеющиеся поля:  \n",
    "Region - город клиента.   \n",
    "ItemName - тип товара.    \n",
    "Medium - канал привлечения.  \n",
    "ActionDate - дата платежа.  \n",
    "Qty - кол-во товаров в покупке.  \n",
    "NetSales - сумма покупки (выручка).  \n",
    "Profit - чистая прибыль с покупки. \n",
    "\n",
    "\n",
    "Необходимо решить следующие задачи (от\n",
    "Вас ожидается SQL-код с указанием\n",
    "диалекта):  \n",
    "\n",
    "2.1 Найти регион с покупкой более чем двумя типами товаров. \n",
    "\n",
    "2.2 Найти среднюю стоимость 2х наиболее часто покупаемых типов товаров. \n",
    "\n",
    "2.3 Рассчитать среднее время (кол-во дней) между покупками в каждом регионе. \n",
    "\n",
    "2.4 Посчитать процент GMV (оборот) кофе japan от всех покупках в каждом регионе за каждый месяц. \n",
    "\n",
    "2.5 Отсортировать по дате покупок и для первых 5 строк посчитать скользящее\n",
    "среднее NetSales c размером окна 3 - т.е. средней из текущей, предыдущей и\n",
    "следующей строчек.  \n",
    "\n",
    "2.6 За каждый день вывести канал привлечения с максимальным GMV, и собственно сам GMV этого канала.  \n",
    "\n",
    "2.7 Найти наименее маржинальный канал привлечения (для которого минимально\n",
    "отношение прибыли к выручке)."
   ]
  },
  {
   "cell_type": "markdown",
   "metadata": {
    "id": "1yTzX5mMiYZA"
   },
   "source": [
    "## Решение\n",
    "В решении используется PostgreSQL.\n",
    "\n",
    "\n",
    "---\n",
    "\n",
    "\n",
    "В решении отталкивался от того, что в одной покупке не может быть двух разных товаров."
   ]
  },
  {
   "cell_type": "code",
   "execution_count": 205,
   "metadata": {
    "id": "nblWgIoLiX3g"
   },
   "outputs": [],
   "source": [
    "# 2.1 Найти регион с покупкой более чем двумя типами товаров.\n",
    "\n",
    "# select region from (SELECT region, count(distinct itemname) cnt FROM payments group by region having count(DISTINCT itemname) > 2) t1;"
   ]
  },
  {
   "cell_type": "code",
   "execution_count": 206,
   "metadata": {
    "id": "BGiCpHxBgpx3"
   },
   "outputs": [],
   "source": [
    "# 2.2 Найти среднюю стоимость 2х наиболее часто покупаемых типов товаров.\n",
    "\n",
    "# select avg(netsales) from (select * from (select itemname, count(*) cnt from payments group by itemname) total left join payments t1 on t1.itemname = total.itemname order by cnt desc limit 2) t2 ;"
   ]
  },
  {
   "cell_type": "code",
   "execution_count": 207,
   "metadata": {
    "id": "CrAU8Jc8msyg"
   },
   "outputs": [],
   "source": [
    "# 2.3 Рассчитать среднее время (кол-во дней) между покупками в каждом регионе.\n",
    "\n",
    "# select region,  avg(nextdate - actiondate) from (\n",
    "# select *, lead(actiondate) over(Partition by region order by actiondate) nextdate from payments) t1 group by region;"
   ]
  },
  {
   "cell_type": "code",
   "execution_count": 208,
   "metadata": {
    "id": "c8JfJD5yxEep"
   },
   "outputs": [],
   "source": [
    "# 2.4 Посчитать процент GMV (оборот) кофе japan от всех покупках в каждом регионе за каждый месяц.\n",
    "\n",
    "# select month_id, region, sum(netsales)/(select sum(t1.netsales) from payments t1 where extract(Month from t1.actiondate) = month_id and t1.region = t2.region) gmv\n",
    "# from generate_series(1, 12) as month_id\n",
    "# left join payments t2 on month_id = Extract(Month from t2.actiondate)\n",
    "# and itemname = 'кофе Japan'\n",
    "# group by region, month_id order by month_id;"
   ]
  },
  {
   "cell_type": "code",
   "execution_count": 209,
   "metadata": {
    "id": "UoSdeEq3P8GV"
   },
   "outputs": [],
   "source": [
    "# 2.5 Отсортировать по дате покупок и для первых 5 строк посчитать скользящее среднее NetSales c размером окна 3 - т.е. средней из текущей, предыдущей и следующей строчек.\n",
    "\n",
    "# select region, itemname, medium, actiondate, qty, netsales, profit, average/cnt from ( select *, CASE WHEN lead(netsales) over(order by actiondate) is null or LAG(netsales) over(order by actiondate) is null THEN 2 else 3 END cnt,\n",
    "#(COALESCE(netsales,0) + COALESCE(lead(netsales) over(order by actiondate),0) + COALESCE(Lag(netsales) over(order by actiondate),0)) average  from (select * from payments order by actiondate limit 5) t1) t2;"
   ]
  },
  {
   "cell_type": "code",
   "execution_count": 210,
   "metadata": {
    "id": "rKvGlaNBP8d9"
   },
   "outputs": [],
   "source": [
    "# 2.6 За каждый день вывести канал привлечения с максимальным GMV, и собственно сам GMV этого канала.\n",
    "\n",
    "# SELECT actiondate,medium,gmv FROM (select actiondate, medium,sum(netsales) gmv,max(sum(netsales)) over(partition by actiondate) max_gmv from payments group by actiondate, medium) t1 where gmv = max_gmv;"
   ]
  },
  {
   "cell_type": "code",
   "execution_count": 211,
   "metadata": {
    "id": "nLRgdGACP8p5"
   },
   "outputs": [],
   "source": [
    "# 2.7 Найти наименее маржинальный канал привлечения (для которого минимально отношение прибыли к выручке)\n",
    "\n",
    "# SELECT * from (SELECT medium, sum(profit/netsales) min_marg from payments group by medium) t1 order by min_marg limit 1;"
   ]
  },
  {
   "cell_type": "markdown",
   "metadata": {},
   "source": [
    "# Чужак в чужой "
   ]
  },
  {
   "cell_type": "markdown",
   "metadata": {},
   "source": [
    "Разработайте алгоритм выставления цены, объясните и обоснуйте его работу так, чтобы даже\n",
    "индийский заказчик не мог придраться, реализуйте алгоритм!"
   ]
  },
  {
   "cell_type": "markdown",
   "metadata": {},
   "source": [
    "##  Решение\n",
    "Перед нами стоит задача регрессии. Для начала посмотрим на наши данные и попытаемся визуализировать их."
   ]
  },
  {
   "cell_type": "code",
   "execution_count": 212,
   "metadata": {
    "id": "9_7zzpQouOoV"
   },
   "outputs": [],
   "source": [
    "import pandas as pd\n",
    "import numpy as np\n",
    "\n",
    "import statsmodels.api as sm\n",
    "from sklearn import linear_model\n",
    "from sklearn.preprocessing import OneHotEncoder\n",
    "\n",
    "from yellowbrick.datasets import load_concrete\n",
    "from yellowbrick.regressor import ResidualsPlot\n",
    "\n",
    "import matplotlib.pyplot as plt\n",
    "import seaborn as sns"
   ]
  },
  {
   "cell_type": "code",
   "execution_count": 213,
   "metadata": {
    "id": "3W5K16amz1lX"
   },
   "outputs": [],
   "source": [
    "df = pd.read_csv('input.txt', sep=\" \", header=None)"
   ]
  },
  {
   "cell_type": "code",
   "execution_count": 214,
   "metadata": {
    "colab": {
     "base_uri": "https://localhost:8080/",
     "height": 206
    },
    "id": "xwRKaFd60Lph",
    "outputId": "e8b700b6-d6ef-476c-e4d4-3304c22f6214"
   },
   "outputs": [
    {
     "data": {
      "text/html": [
       "\n",
       "  <div id=\"df-89fa40f8-b440-4316-bd28-f8a63fceb315\">\n",
       "    <div class=\"colab-df-container\">\n",
       "      <div>\n",
       "<style scoped>\n",
       "    .dataframe tbody tr th:only-of-type {\n",
       "        vertical-align: middle;\n",
       "    }\n",
       "\n",
       "    .dataframe tbody tr th {\n",
       "        vertical-align: top;\n",
       "    }\n",
       "\n",
       "    .dataframe thead th {\n",
       "        text-align: right;\n",
       "    }\n",
       "</style>\n",
       "<table border=\"1\" class=\"dataframe\">\n",
       "  <thead>\n",
       "    <tr style=\"text-align: right;\">\n",
       "      <th></th>\n",
       "      <th>Фича 1</th>\n",
       "      <th>Фича 2</th>\n",
       "      <th>Фича 3</th>\n",
       "      <th>Цена</th>\n",
       "    </tr>\n",
       "  </thead>\n",
       "  <tbody>\n",
       "    <tr>\n",
       "      <th>0</th>\n",
       "      <td>0.78</td>\n",
       "      <td>3.0</td>\n",
       "      <td>0.4</td>\n",
       "      <td>9</td>\n",
       "    </tr>\n",
       "    <tr>\n",
       "      <th>1</th>\n",
       "      <td>0.61</td>\n",
       "      <td>7.0</td>\n",
       "      <td>4.5</td>\n",
       "      <td>20</td>\n",
       "    </tr>\n",
       "    <tr>\n",
       "      <th>2</th>\n",
       "      <td>0.41</td>\n",
       "      <td>2.8</td>\n",
       "      <td>4.0</td>\n",
       "      <td>10</td>\n",
       "    </tr>\n",
       "    <tr>\n",
       "      <th>3</th>\n",
       "      <td>0.08</td>\n",
       "      <td>3.4</td>\n",
       "      <td>3.8</td>\n",
       "      <td>10</td>\n",
       "    </tr>\n",
       "    <tr>\n",
       "      <th>4</th>\n",
       "      <td>0.03</td>\n",
       "      <td>1.3</td>\n",
       "      <td>2.2</td>\n",
       "      <td>6</td>\n",
       "    </tr>\n",
       "  </tbody>\n",
       "</table>\n",
       "</div>\n",
       "      <button class=\"colab-df-convert\" onclick=\"convertToInteractive('df-89fa40f8-b440-4316-bd28-f8a63fceb315')\"\n",
       "              title=\"Convert this dataframe to an interactive table.\"\n",
       "              style=\"display:none;\">\n",
       "        \n",
       "  <svg xmlns=\"http://www.w3.org/2000/svg\" height=\"24px\"viewBox=\"0 0 24 24\"\n",
       "       width=\"24px\">\n",
       "    <path d=\"M0 0h24v24H0V0z\" fill=\"none\"/>\n",
       "    <path d=\"M18.56 5.44l.94 2.06.94-2.06 2.06-.94-2.06-.94-.94-2.06-.94 2.06-2.06.94zm-11 1L8.5 8.5l.94-2.06 2.06-.94-2.06-.94L8.5 2.5l-.94 2.06-2.06.94zm10 10l.94 2.06.94-2.06 2.06-.94-2.06-.94-.94-2.06-.94 2.06-2.06.94z\"/><path d=\"M17.41 7.96l-1.37-1.37c-.4-.4-.92-.59-1.43-.59-.52 0-1.04.2-1.43.59L10.3 9.45l-7.72 7.72c-.78.78-.78 2.05 0 2.83L4 21.41c.39.39.9.59 1.41.59.51 0 1.02-.2 1.41-.59l7.78-7.78 2.81-2.81c.8-.78.8-2.07 0-2.86zM5.41 20L4 18.59l7.72-7.72 1.47 1.35L5.41 20z\"/>\n",
       "  </svg>\n",
       "      </button>\n",
       "      \n",
       "  <style>\n",
       "    .colab-df-container {\n",
       "      display:flex;\n",
       "      flex-wrap:wrap;\n",
       "      gap: 12px;\n",
       "    }\n",
       "\n",
       "    .colab-df-convert {\n",
       "      background-color: #E8F0FE;\n",
       "      border: none;\n",
       "      border-radius: 50%;\n",
       "      cursor: pointer;\n",
       "      display: none;\n",
       "      fill: #1967D2;\n",
       "      height: 32px;\n",
       "      padding: 0 0 0 0;\n",
       "      width: 32px;\n",
       "    }\n",
       "\n",
       "    .colab-df-convert:hover {\n",
       "      background-color: #E2EBFA;\n",
       "      box-shadow: 0px 1px 2px rgba(60, 64, 67, 0.3), 0px 1px 3px 1px rgba(60, 64, 67, 0.15);\n",
       "      fill: #174EA6;\n",
       "    }\n",
       "\n",
       "    [theme=dark] .colab-df-convert {\n",
       "      background-color: #3B4455;\n",
       "      fill: #D2E3FC;\n",
       "    }\n",
       "\n",
       "    [theme=dark] .colab-df-convert:hover {\n",
       "      background-color: #434B5C;\n",
       "      box-shadow: 0px 1px 3px 1px rgba(0, 0, 0, 0.15);\n",
       "      filter: drop-shadow(0px 1px 2px rgba(0, 0, 0, 0.3));\n",
       "      fill: #FFFFFF;\n",
       "    }\n",
       "  </style>\n",
       "\n",
       "      <script>\n",
       "        const buttonEl =\n",
       "          document.querySelector('#df-89fa40f8-b440-4316-bd28-f8a63fceb315 button.colab-df-convert');\n",
       "        buttonEl.style.display =\n",
       "          google.colab.kernel.accessAllowed ? 'block' : 'none';\n",
       "\n",
       "        async function convertToInteractive(key) {\n",
       "          const element = document.querySelector('#df-89fa40f8-b440-4316-bd28-f8a63fceb315');\n",
       "          const dataTable =\n",
       "            await google.colab.kernel.invokeFunction('convertToInteractive',\n",
       "                                                     [key], {});\n",
       "          if (!dataTable) return;\n",
       "\n",
       "          const docLinkHtml = 'Like what you see? Visit the ' +\n",
       "            '<a target=\"_blank\" href=https://colab.research.google.com/notebooks/data_table.ipynb>data table notebook</a>'\n",
       "            + ' to learn more about interactive tables.';\n",
       "          element.innerHTML = '';\n",
       "          dataTable['output_type'] = 'display_data';\n",
       "          await google.colab.output.renderOutput(dataTable, element);\n",
       "          const docLink = document.createElement('div');\n",
       "          docLink.innerHTML = docLinkHtml;\n",
       "          element.appendChild(docLink);\n",
       "        }\n",
       "      </script>\n",
       "    </div>\n",
       "  </div>\n",
       "  "
      ],
      "text/plain": [
       "   Фича 1  Фича 2  Фича 3  Цена\n",
       "0    0.78     3.0     0.4     9\n",
       "1    0.61     7.0     4.5    20\n",
       "2    0.41     2.8     4.0    10\n",
       "3    0.08     3.4     3.8    10\n",
       "4    0.03     1.3     2.2     6"
      ]
     },
     "execution_count": 214,
     "metadata": {},
     "output_type": "execute_result"
    }
   ],
   "source": [
    "cols = ['Фича 1', 'Фича 2', 'Фича 3', 'Цена']\n",
    "df.columns = cols\n",
    "df.head()"
   ]
  },
  {
   "cell_type": "code",
   "execution_count": 215,
   "metadata": {
    "colab": {
     "base_uri": "https://localhost:8080/"
    },
    "id": "7ome4Zi0r_fS",
    "outputId": "9449218a-aff3-4fbb-d3b8-0d8a2d0de38d"
   },
   "outputs": [
    {
     "name": "stdout",
     "output_type": "stream",
     "text": [
      "<class 'pandas.core.frame.DataFrame'>\n",
      "RangeIndex: 20 entries, 0 to 19\n",
      "Data columns (total 4 columns):\n",
      " #   Column  Non-Null Count  Dtype  \n",
      "---  ------  --------------  -----  \n",
      " 0   Фича 1  20 non-null     float64\n",
      " 1   Фича 2  20 non-null     float64\n",
      " 2   Фича 3  20 non-null     float64\n",
      " 3   Цена    20 non-null     int64  \n",
      "dtypes: float64(3), int64(1)\n",
      "memory usage: 768.0 bytes\n"
     ]
    }
   ],
   "source": [
    "df.info()"
   ]
  },
  {
   "cell_type": "code",
   "execution_count": 216,
   "metadata": {
    "colab": {
     "base_uri": "https://localhost:8080/",
     "height": 300
    },
    "id": "v7gTN_wR0CVa",
    "outputId": "979e0e69-237c-4c05-c2f2-59b5fe820e64"
   },
   "outputs": [
    {
     "data": {
      "text/html": [
       "\n",
       "  <div id=\"df-fb795e2b-c69b-4d7b-a66c-823e34f6c36b\">\n",
       "    <div class=\"colab-df-container\">\n",
       "      <div>\n",
       "<style scoped>\n",
       "    .dataframe tbody tr th:only-of-type {\n",
       "        vertical-align: middle;\n",
       "    }\n",
       "\n",
       "    .dataframe tbody tr th {\n",
       "        vertical-align: top;\n",
       "    }\n",
       "\n",
       "    .dataframe thead th {\n",
       "        text-align: right;\n",
       "    }\n",
       "</style>\n",
       "<table border=\"1\" class=\"dataframe\">\n",
       "  <thead>\n",
       "    <tr style=\"text-align: right;\">\n",
       "      <th></th>\n",
       "      <th>Фича 1</th>\n",
       "      <th>Фича 2</th>\n",
       "      <th>Фича 3</th>\n",
       "      <th>Цена</th>\n",
       "    </tr>\n",
       "  </thead>\n",
       "  <tbody>\n",
       "    <tr>\n",
       "      <th>count</th>\n",
       "      <td>20.000000</td>\n",
       "      <td>20.000000</td>\n",
       "      <td>20.000000</td>\n",
       "      <td>20.000000</td>\n",
       "    </tr>\n",
       "    <tr>\n",
       "      <th>mean</th>\n",
       "      <td>0.504500</td>\n",
       "      <td>4.405000</td>\n",
       "      <td>3.800000</td>\n",
       "      <td>21.450000</td>\n",
       "    </tr>\n",
       "    <tr>\n",
       "      <th>std</th>\n",
       "      <td>0.301339</td>\n",
       "      <td>2.667835</td>\n",
       "      <td>2.095358</td>\n",
       "      <td>24.143159</td>\n",
       "    </tr>\n",
       "    <tr>\n",
       "      <th>min</th>\n",
       "      <td>0.030000</td>\n",
       "      <td>0.400000</td>\n",
       "      <td>0.200000</td>\n",
       "      <td>1.000000</td>\n",
       "    </tr>\n",
       "    <tr>\n",
       "      <th>25%</th>\n",
       "      <td>0.282500</td>\n",
       "      <td>2.250000</td>\n",
       "      <td>2.100000</td>\n",
       "      <td>8.250000</td>\n",
       "    </tr>\n",
       "    <tr>\n",
       "      <th>50%</th>\n",
       "      <td>0.500000</td>\n",
       "      <td>3.700000</td>\n",
       "      <td>4.100000</td>\n",
       "      <td>16.500000</td>\n",
       "    </tr>\n",
       "    <tr>\n",
       "      <th>75%</th>\n",
       "      <td>0.682500</td>\n",
       "      <td>7.025000</td>\n",
       "      <td>5.275000</td>\n",
       "      <td>22.000000</td>\n",
       "    </tr>\n",
       "    <tr>\n",
       "      <th>max</th>\n",
       "      <td>0.970000</td>\n",
       "      <td>9.000000</td>\n",
       "      <td>7.000000</td>\n",
       "      <td>100.000000</td>\n",
       "    </tr>\n",
       "  </tbody>\n",
       "</table>\n",
       "</div>\n",
       "      <button class=\"colab-df-convert\" onclick=\"convertToInteractive('df-fb795e2b-c69b-4d7b-a66c-823e34f6c36b')\"\n",
       "              title=\"Convert this dataframe to an interactive table.\"\n",
       "              style=\"display:none;\">\n",
       "        \n",
       "  <svg xmlns=\"http://www.w3.org/2000/svg\" height=\"24px\"viewBox=\"0 0 24 24\"\n",
       "       width=\"24px\">\n",
       "    <path d=\"M0 0h24v24H0V0z\" fill=\"none\"/>\n",
       "    <path d=\"M18.56 5.44l.94 2.06.94-2.06 2.06-.94-2.06-.94-.94-2.06-.94 2.06-2.06.94zm-11 1L8.5 8.5l.94-2.06 2.06-.94-2.06-.94L8.5 2.5l-.94 2.06-2.06.94zm10 10l.94 2.06.94-2.06 2.06-.94-2.06-.94-.94-2.06-.94 2.06-2.06.94z\"/><path d=\"M17.41 7.96l-1.37-1.37c-.4-.4-.92-.59-1.43-.59-.52 0-1.04.2-1.43.59L10.3 9.45l-7.72 7.72c-.78.78-.78 2.05 0 2.83L4 21.41c.39.39.9.59 1.41.59.51 0 1.02-.2 1.41-.59l7.78-7.78 2.81-2.81c.8-.78.8-2.07 0-2.86zM5.41 20L4 18.59l7.72-7.72 1.47 1.35L5.41 20z\"/>\n",
       "  </svg>\n",
       "      </button>\n",
       "      \n",
       "  <style>\n",
       "    .colab-df-container {\n",
       "      display:flex;\n",
       "      flex-wrap:wrap;\n",
       "      gap: 12px;\n",
       "    }\n",
       "\n",
       "    .colab-df-convert {\n",
       "      background-color: #E8F0FE;\n",
       "      border: none;\n",
       "      border-radius: 50%;\n",
       "      cursor: pointer;\n",
       "      display: none;\n",
       "      fill: #1967D2;\n",
       "      height: 32px;\n",
       "      padding: 0 0 0 0;\n",
       "      width: 32px;\n",
       "    }\n",
       "\n",
       "    .colab-df-convert:hover {\n",
       "      background-color: #E2EBFA;\n",
       "      box-shadow: 0px 1px 2px rgba(60, 64, 67, 0.3), 0px 1px 3px 1px rgba(60, 64, 67, 0.15);\n",
       "      fill: #174EA6;\n",
       "    }\n",
       "\n",
       "    [theme=dark] .colab-df-convert {\n",
       "      background-color: #3B4455;\n",
       "      fill: #D2E3FC;\n",
       "    }\n",
       "\n",
       "    [theme=dark] .colab-df-convert:hover {\n",
       "      background-color: #434B5C;\n",
       "      box-shadow: 0px 1px 3px 1px rgba(0, 0, 0, 0.15);\n",
       "      filter: drop-shadow(0px 1px 2px rgba(0, 0, 0, 0.3));\n",
       "      fill: #FFFFFF;\n",
       "    }\n",
       "  </style>\n",
       "\n",
       "      <script>\n",
       "        const buttonEl =\n",
       "          document.querySelector('#df-fb795e2b-c69b-4d7b-a66c-823e34f6c36b button.colab-df-convert');\n",
       "        buttonEl.style.display =\n",
       "          google.colab.kernel.accessAllowed ? 'block' : 'none';\n",
       "\n",
       "        async function convertToInteractive(key) {\n",
       "          const element = document.querySelector('#df-fb795e2b-c69b-4d7b-a66c-823e34f6c36b');\n",
       "          const dataTable =\n",
       "            await google.colab.kernel.invokeFunction('convertToInteractive',\n",
       "                                                     [key], {});\n",
       "          if (!dataTable) return;\n",
       "\n",
       "          const docLinkHtml = 'Like what you see? Visit the ' +\n",
       "            '<a target=\"_blank\" href=https://colab.research.google.com/notebooks/data_table.ipynb>data table notebook</a>'\n",
       "            + ' to learn more about interactive tables.';\n",
       "          element.innerHTML = '';\n",
       "          dataTable['output_type'] = 'display_data';\n",
       "          await google.colab.output.renderOutput(dataTable, element);\n",
       "          const docLink = document.createElement('div');\n",
       "          docLink.innerHTML = docLinkHtml;\n",
       "          element.appendChild(docLink);\n",
       "        }\n",
       "      </script>\n",
       "    </div>\n",
       "  </div>\n",
       "  "
      ],
      "text/plain": [
       "          Фича 1     Фича 2     Фича 3        Цена\n",
       "count  20.000000  20.000000  20.000000   20.000000\n",
       "mean    0.504500   4.405000   3.800000   21.450000\n",
       "std     0.301339   2.667835   2.095358   24.143159\n",
       "min     0.030000   0.400000   0.200000    1.000000\n",
       "25%     0.282500   2.250000   2.100000    8.250000\n",
       "50%     0.500000   3.700000   4.100000   16.500000\n",
       "75%     0.682500   7.025000   5.275000   22.000000\n",
       "max     0.970000   9.000000   7.000000  100.000000"
      ]
     },
     "execution_count": 216,
     "metadata": {},
     "output_type": "execute_result"
    }
   ],
   "source": [
    "df.describe()"
   ]
  },
  {
   "cell_type": "markdown",
   "metadata": {
    "id": "2L5hEZghtpeb"
   },
   "source": [
    "Как видно из предыдущих таблиц, мы работаем с численными признаками."
   ]
  },
  {
   "cell_type": "markdown",
   "metadata": {
    "id": "b9ZbWpnHP_x_"
   },
   "source": [
    "Посмотрим на распределние целевой переменной."
   ]
  },
  {
   "cell_type": "code",
   "execution_count": 217,
   "metadata": {
    "colab": {
     "base_uri": "https://localhost:8080/",
     "height": 417
    },
    "id": "YET9Xa-svZL3",
    "outputId": "7ef7f7aa-5e96-4261-f2ab-792c720b98be"
   },
   "outputs": [
    {
     "name": "stderr",
     "output_type": "stream",
     "text": [
      "/usr/local/lib/python3.7/dist-packages/seaborn/distributions.py:2619: FutureWarning: `distplot` is a deprecated function and will be removed in a future version. Please adapt your code to use either `displot` (a figure-level function with similar flexibility) or `histplot` (an axes-level function for histograms).\n",
      "  warnings.warn(msg, FutureWarning)\n"
     ]
    },
    {
     "data": {
      "image/png": "[encoded data removed]",
      "text/plain": [
       "<Figure size 576x396 with 1 Axes>"
      ]
     },
     "metadata": {},
     "output_type": "display_data"
    }
   ],
   "source": [
    "sns.distplot(df['Цена']);"
   ]
  },
  {
   "cell_type": "markdown",
   "metadata": {
    "id": "LGZB4kV7PRGz"
   },
   "source": [
    "Похоже, что будь у нас больше данных мы бы получили бимодальное распределение. Проверим с помошью IQR данные на наличие выбросов."
   ]
  },
  {
   "cell_type": "code",
   "execution_count": 218,
   "metadata": {
    "id": "aMOi4yH7IhRz"
   },
   "outputs": [],
   "source": [
    "def subset_by_iqr(df, column, whisker_width=1.5):\n",
    "\n",
    "    q1 = df[column].quantile(0.25)                 \n",
    "    q3 = df[column].quantile(0.75)\n",
    "    iqr = q3 - q1\n",
    "    \n",
    "    filter = (df[column] >= q1 - whisker_width*iqr) & (df[column] <= q3 + whisker_width*iqr)\n",
    "    return df.loc[filter], df.loc[~filter]"
   ]
  },
  {
   "cell_type": "code",
   "execution_count": 219,
   "metadata": {
    "id": "NH6WIAm-Ioaw"
   },
   "outputs": [],
   "source": [
    "df, outliers = subset_by_iqr(df, 'Цена', whisker_width=1.5)"
   ]
  },
  {
   "cell_type": "code",
   "execution_count": 220,
   "metadata": {
    "colab": {
     "base_uri": "https://localhost:8080/",
     "height": 112
    },
    "id": "9YcaHwErP2vL",
    "outputId": "aed6567a-e9fb-4f80-ba24-57e397cb2940"
   },
   "outputs": [
    {
     "data": {
      "text/html": [
       "\n",
       "  <div id=\"df-493fd521-89b8-4a18-a99a-7651c4df4132\">\n",
       "    <div class=\"colab-df-container\">\n",
       "      <div>\n",
       "<style scoped>\n",
       "    .dataframe tbody tr th:only-of-type {\n",
       "        vertical-align: middle;\n",
       "    }\n",
       "\n",
       "    .dataframe tbody tr th {\n",
       "        vertical-align: top;\n",
       "    }\n",
       "\n",
       "    .dataframe thead th {\n",
       "        text-align: right;\n",
       "    }\n",
       "</style>\n",
       "<table border=\"1\" class=\"dataframe\">\n",
       "  <thead>\n",
       "    <tr style=\"text-align: right;\">\n",
       "      <th></th>\n",
       "      <th>Фича 1</th>\n",
       "      <th>Фича 2</th>\n",
       "      <th>Фича 3</th>\n",
       "      <th>Цена</th>\n",
       "    </tr>\n",
       "  </thead>\n",
       "  <tbody>\n",
       "    <tr>\n",
       "      <th>5</th>\n",
       "      <td>0.52</td>\n",
       "      <td>8.3</td>\n",
       "      <td>6.2</td>\n",
       "      <td>100</td>\n",
       "    </tr>\n",
       "    <tr>\n",
       "      <th>16</th>\n",
       "      <td>0.97</td>\n",
       "      <td>9.0</td>\n",
       "      <td>5.7</td>\n",
       "      <td>70</td>\n",
       "    </tr>\n",
       "  </tbody>\n",
       "</table>\n",
       "</div>\n",
       "      <button class=\"colab-df-convert\" onclick=\"convertToInteractive('df-493fd521-89b8-4a18-a99a-7651c4df4132')\"\n",
       "              title=\"Convert this dataframe to an interactive table.\"\n",
       "              style=\"display:none;\">\n",
       "        \n",
       "  <svg xmlns=\"http://www.w3.org/2000/svg\" height=\"24px\"viewBox=\"0 0 24 24\"\n",
       "       width=\"24px\">\n",
       "    <path d=\"M0 0h24v24H0V0z\" fill=\"none\"/>\n",
       "    <path d=\"M18.56 5.44l.94 2.06.94-2.06 2.06-.94-2.06-.94-.94-2.06-.94 2.06-2.06.94zm-11 1L8.5 8.5l.94-2.06 2.06-.94-2.06-.94L8.5 2.5l-.94 2.06-2.06.94zm10 10l.94 2.06.94-2.06 2.06-.94-2.06-.94-.94-2.06-.94 2.06-2.06.94z\"/><path d=\"M17.41 7.96l-1.37-1.37c-.4-.4-.92-.59-1.43-.59-.52 0-1.04.2-1.43.59L10.3 9.45l-7.72 7.72c-.78.78-.78 2.05 0 2.83L4 21.41c.39.39.9.59 1.41.59.51 0 1.02-.2 1.41-.59l7.78-7.78 2.81-2.81c.8-.78.8-2.07 0-2.86zM5.41 20L4 18.59l7.72-7.72 1.47 1.35L5.41 20z\"/>\n",
       "  </svg>\n",
       "      </button>\n",
       "      \n",
       "  <style>\n",
       "    .colab-df-container {\n",
       "      display:flex;\n",
       "      flex-wrap:wrap;\n",
       "      gap: 12px;\n",
       "    }\n",
       "\n",
       "    .colab-df-convert {\n",
       "      background-color: #E8F0FE;\n",
       "      border: none;\n",
       "      border-radius: 50%;\n",
       "      cursor: pointer;\n",
       "      display: none;\n",
       "      fill: #1967D2;\n",
       "      height: 32px;\n",
       "      padding: 0 0 0 0;\n",
       "      width: 32px;\n",
       "    }\n",
       "\n",
       "    .colab-df-convert:hover {\n",
       "      background-color: #E2EBFA;\n",
       "      box-shadow: 0px 1px 2px rgba(60, 64, 67, 0.3), 0px 1px 3px 1px rgba(60, 64, 67, 0.15);\n",
       "      fill: #174EA6;\n",
       "    }\n",
       "\n",
       "    [theme=dark] .colab-df-convert {\n",
       "      background-color: #3B4455;\n",
       "      fill: #D2E3FC;\n",
       "    }\n",
       "\n",
       "    [theme=dark] .colab-df-convert:hover {\n",
       "      background-color: #434B5C;\n",
       "      box-shadow: 0px 1px 3px 1px rgba(0, 0, 0, 0.15);\n",
       "      filter: drop-shadow(0px 1px 2px rgba(0, 0, 0, 0.3));\n",
       "      fill: #FFFFFF;\n",
       "    }\n",
       "  </style>\n",
       "\n",
       "      <script>\n",
       "        const buttonEl =\n",
       "          document.querySelector('#df-493fd521-89b8-4a18-a99a-7651c4df4132 button.colab-df-convert');\n",
       "        buttonEl.style.display =\n",
       "          google.colab.kernel.accessAllowed ? 'block' : 'none';\n",
       "\n",
       "        async function convertToInteractive(key) {\n",
       "          const element = document.querySelector('#df-493fd521-89b8-4a18-a99a-7651c4df4132');\n",
       "          const dataTable =\n",
       "            await google.colab.kernel.invokeFunction('convertToInteractive',\n",
       "                                                     [key], {});\n",
       "          if (!dataTable) return;\n",
       "\n",
       "          const docLinkHtml = 'Like what you see? Visit the ' +\n",
       "            '<a target=\"_blank\" href=https://colab.research.google.com/notebooks/data_table.ipynb>data table notebook</a>'\n",
       "            + ' to learn more about interactive tables.';\n",
       "          element.innerHTML = '';\n",
       "          dataTable['output_type'] = 'display_data';\n",
       "          await google.colab.output.renderOutput(dataTable, element);\n",
       "          const docLink = document.createElement('div');\n",
       "          docLink.innerHTML = docLinkHtml;\n",
       "          element.appendChild(docLink);\n",
       "        }\n",
       "      </script>\n",
       "    </div>\n",
       "  </div>\n",
       "  "
      ],
      "text/plain": [
       "    Фича 1  Фича 2  Фича 3  Цена\n",
       "5     0.52     8.3     6.2   100\n",
       "16    0.97     9.0     5.7    70"
      ]
     },
     "execution_count": 220,
     "metadata": {},
     "output_type": "execute_result"
    }
   ],
   "source": [
    "outliers"
   ]
  },
  {
   "cell_type": "code",
   "execution_count": 221,
   "metadata": {
    "colab": {
     "base_uri": "https://localhost:8080/",
     "height": 417
    },
    "id": "zmK7VS2kKPB1",
    "outputId": "e3ae70eb-9937-4fa7-86cf-1bcb779ee579"
   },
   "outputs": [
    {
     "name": "stderr",
     "output_type": "stream",
     "text": [
      "/usr/local/lib/python3.7/dist-packages/seaborn/distributions.py:2619: FutureWarning: `distplot` is a deprecated function and will be removed in a future version. Please adapt your code to use either `displot` (a figure-level function with similar flexibility) or `histplot` (an axes-level function for histograms).\n",
      "  warnings.warn(msg, FutureWarning)\n"
     ]
    },
    {
     "data": {
      "image/png": "[encoded data removed]",
      "text/plain": [
       "<Figure size 576x396 with 1 Axes>"
      ]
     },
     "metadata": {},
     "output_type": "display_data"
    }
   ],
   "source": [
    "sns.distplot(df['Цена']);"
   ]
  },
  {
   "cell_type": "code",
   "execution_count": 222,
   "metadata": {
    "id": "Fq4rtmU4dVNV"
   },
   "outputs": [],
   "source": [
    "X, y = df.drop('Цена', axis=1), df['Цена']"
   ]
  },
  {
   "cell_type": "code",
   "execution_count": 223,
   "metadata": {
    "colab": {
     "base_uri": "https://localhost:8080/",
     "height": 195
    },
    "id": "aJREdmjAnfAC",
    "outputId": "6cd2ec6e-7bb0-4ffa-de3b-a54b4043a7a2"
   },
   "outputs": [
    {
     "data": {
      "image/png": "[encoded data removed]",
      "text/plain": [
       "<Figure size 540x180 with 3 Axes>"
      ]
     },
     "metadata": {},
     "output_type": "display_data"
    }
   ],
   "source": [
    "sns.pairplot(data=df, y_vars='Цена', x_vars=X.columns, kind='scatter')\n",
    "plt.show()"
   ]
  },
  {
   "cell_type": "markdown",
   "metadata": {
    "id": "PiCWxe2an0EB"
   },
   "source": [
    "Похоже на некоторую линейную зависимость. Вероятно, для определения цены достаточно использовать линейную регрессию. Проверим следующие 5 предположений для использования данной модели."
   ]
  },
  {
   "cell_type": "markdown",
   "metadata": {
    "id": "_lB4QyAUd1Kl"
   },
   "source": [
    "### Предположение 1\n",
    "Линейная связь между функциями и таргетом. "
   ]
  },
  {
   "cell_type": "code",
   "execution_count": 224,
   "metadata": {
    "colab": {
     "base_uri": "https://localhost:8080/",
     "height": 195
    },
    "id": "NcDZvgBXdy_A",
    "outputId": "ef79cfd3-62cf-46fc-a1f5-c64da4c34b17"
   },
   "outputs": [
    {
     "data": {
      "image/png": "[encoded data removed]",
      "text/plain": [
       "<Figure size 540x180 with 3 Axes>"
      ]
     },
     "metadata": {},
     "output_type": "display_data"
    }
   ],
   "source": [
    "sns.pairplot(data=df, y_vars='Цена', x_vars=X.columns, kind='reg')\n",
    "plt.show()"
   ]
  },
  {
   "cell_type": "markdown",
   "metadata": {
    "id": "V0BOHzpiQrC2"
   },
   "source": [
    "Выполняется условие."
   ]
  },
  {
   "cell_type": "markdown",
   "metadata": {
    "id": "uX4uJl7EehcA"
   },
   "source": [
    "### Предположение 2\n",
    "Незначительная или отсутствующая мультиколлинеарность между признаками. \n"
   ]
  },
  {
   "cell_type": "code",
   "execution_count": 225,
   "metadata": {
    "colab": {
     "base_uri": "https://localhost:8080/",
     "height": 548
    },
    "id": "e3600NaieE9m",
    "outputId": "1a2436e9-4e5a-4524-8460-2195b2550e36"
   },
   "outputs": [
    {
     "data": {
      "image/png": "[encoded data removed]",
      "text/plain": [
       "<Figure size 540x540 with 12 Axes>"
      ]
     },
     "metadata": {},
     "output_type": "display_data"
    }
   ],
   "source": [
    "sns.pairplot(X);"
   ]
  },
  {
   "cell_type": "markdown",
   "metadata": {
    "id": "iGis_Ah8Rz8L"
   },
   "source": [
    "Как видно из графиков предположение выполняется. Для пущей уверенности построим матрицу корреляции."
   ]
  },
  {
   "cell_type": "code",
   "execution_count": 226,
   "metadata": {
    "colab": {
     "base_uri": "https://localhost:8080/",
     "height": 351
    },
    "id": "zj3yO7oSeobA",
    "outputId": "c14ef90a-21fc-4a07-93b0-de1bd4113225"
   },
   "outputs": [
    {
     "data": {
      "image/png": "[encoded data removed]",
      "text/plain": [
       "<Figure size 576x396 with 2 Axes>"
      ]
     },
     "metadata": {},
     "output_type": "display_data"
    }
   ],
   "source": [
    "sns.heatmap(X.corr(), annot=True);"
   ]
  },
  {
   "cell_type": "markdown",
   "metadata": {
    "id": "WnBsq4OfR7qI"
   },
   "source": [
    "Для всех признаков значение корреляции по модулю меньше 0.5, это слабая корреляция."
   ]
  },
  {
   "cell_type": "markdown",
   "metadata": {
    "id": "j1P7hDb2e2Ek"
   },
   "source": [
    "### Предположение 3\n",
    "Гомоскедастичность."
   ]
  },
  {
   "cell_type": "code",
   "execution_count": 227,
   "metadata": {
    "colab": {
     "base_uri": "https://localhost:8080/",
     "height": 394
    },
    "id": "-FydZqy3e4DN",
    "outputId": "98eda0d3-a094-4b9a-d0e7-ed7bbbda2e84"
   },
   "outputs": [
    {
     "data": {
      "image/png": "[encoded data removed]",
      "text/plain": [
       "<Figure size 576x396 with 2 Axes>"
      ]
     },
     "metadata": {},
     "output_type": "display_data"
    },
    {
     "data": {
      "text/plain": [
       "<matplotlib.axes._subplots.AxesSubplot at 0x7f2ff510fd10>"
      ]
     },
     "execution_count": 227,
     "metadata": {},
     "output_type": "execute_result"
    }
   ],
   "source": [
    "model = linear_model.LinearRegression()\n",
    "visualizer = ResidualsPlot(model)\n",
    "\n",
    "visualizer.fit(X, y)  \n",
    "\n",
    "visualizer.show()"
   ]
  },
  {
   "cell_type": "markdown",
   "metadata": {
    "id": "F1TSnTkuwBYD"
   },
   "source": [
    "Остатки имеют относительную постоянную дисперсию."
   ]
  },
  {
   "cell_type": "markdown",
   "metadata": {
    "id": "mfmgX86KfRcr"
   },
   "source": [
    "### Предположение 4\n",
    "Нормальное распределение ошибок."
   ]
  },
  {
   "cell_type": "code",
   "execution_count": 228,
   "metadata": {
    "colab": {
     "base_uri": "https://localhost:8080/",
     "height": 361
    },
    "id": "L9eC24p9fEt8",
    "outputId": "74026e8d-2f05-43c9-b04b-719a5a6f00c9"
   },
   "outputs": [
    {
     "data": {
      "image/png": "[encoded data removed]",
      "text/plain": [
       "<Figure size 576x396 with 1 Axes>"
      ]
     },
     "metadata": {},
     "output_type": "display_data"
    }
   ],
   "source": [
    "mod_fit = sm.OLS(list(y), X).fit()\n",
    "\n",
    "res = mod_fit.resid\n",
    "fig = sm.qqplot(res, fit=True, line='45')\n",
    "plt.grid()\n",
    "plt.show()"
   ]
  },
  {
   "cell_type": "markdown",
   "metadata": {
    "id": "HFxfMLsBYIRp"
   },
   "source": [
    "Значительных отклонений не обнаружено."
   ]
  },
  {
   "cell_type": "markdown",
   "metadata": {
    "id": "Xmy0l08kf91i"
   },
   "source": [
    "### Предположение 5\n",
    "Небольшая автокорреляция или ее отсутствие в остатках"
   ]
  },
  {
   "cell_type": "code",
   "execution_count": 229,
   "metadata": {
    "colab": {
     "base_uri": "https://localhost:8080/"
    },
    "id": "pHaM6XtGfmyr",
    "outputId": "0ce3da04-dafe-4ff3-f9ed-47effe7c2988"
   },
   "outputs": [
    {
     "name": "stdout",
     "output_type": "stream",
     "text": [
      "                                 OLS Regression Results                                \n",
      "=======================================================================================\n",
      "Dep. Variable:                      y   R-squared (uncentered):                   0.959\n",
      "Model:                            OLS   Adj. R-squared (uncentered):              0.951\n",
      "Method:                 Least Squares   F-statistic:                              118.0\n",
      "Date:                Sun, 31 Jul 2022   Prob (F-statistic):                    1.18e-10\n",
      "Time:                        19:09:10   Log-Likelihood:                         -48.015\n",
      "No. Observations:                  18   AIC:                                      102.0\n",
      "Df Residuals:                      15   BIC:                                      104.7\n",
      "Df Model:                           3                                                  \n",
      "Covariance Type:            nonrobust                                                  \n",
      "==============================================================================\n",
      "                 coef    std err          t      P>|t|      [0.025      0.975]\n",
      "------------------------------------------------------------------------------\n",
      "Фича 1        -5.0668      2.670     -1.897      0.077     -10.758       0.625\n",
      "Фича 2         2.8375      0.447      6.348      0.000       1.885       3.790\n",
      "Фича 3         1.6850      0.390      4.324      0.001       0.854       2.515\n",
      "==============================================================================\n",
      "Omnibus:                        0.440   Durbin-Watson:                   1.416\n",
      "Prob(Omnibus):                  0.802   Jarque-Bera (JB):                0.546\n",
      "Skew:                          -0.150   Prob(JB):                        0.761\n",
      "Kurtosis:                       2.201   Cond. No.                         17.5\n",
      "==============================================================================\n",
      "\n",
      "Warnings:\n",
      "[1] Standard Errors assume that the covariance matrix of the errors is correctly specified.\n"
     ]
    },
    {
     "name": "stderr",
     "output_type": "stream",
     "text": [
      "/usr/local/lib/python3.7/dist-packages/scipy/stats/stats.py:1542: UserWarning: kurtosistest only valid for n>=20 ... continuing anyway, n=18\n",
      "  \"anyway, n=%i\" % int(n))\n"
     ]
    }
   ],
   "source": [
    "model = sm.OLS(list(y), X)\n",
    "result = model.fit()\n",
    "print(result.summary())"
   ]
  },
  {
   "cell_type": "markdown",
   "metadata": {
    "id": "mzsELHXvgblA"
   },
   "source": [
    "Результат проведения теста Дарбина-Ватсона равен 1.4, таким образом наблюдается небольшая автокорреляция (значения 1.5 < d < 2.5 обычно показывают, что нет автокорреляции)."
   ]
  },
  {
   "cell_type": "markdown",
   "metadata": {
    "id": "5HtjwUXzZImZ"
   },
   "source": [
    "### Вердикт\n",
    "Проверка предположений показала (с некоторым допущением) возможность использования линейной регрессии для предсказания цены. "
   ]
  },
  {
   "cell_type": "code",
   "execution_count": 230,
   "metadata": {
    "id": "crCzF0IBGr-s"
   },
   "outputs": [],
   "source": [
    "def calculate_residuals(model, features, label):\n",
    "    \"\"\"\n",
    "    Creates predictions on the features with the model and calculates residuals\n",
    "    \"\"\"\n",
    "    predictions = model.predict(features)\n",
    "    df_results = pd.DataFrame({'Actual': label, 'Predicted': predictions})\n",
    "    df_results['Residuals'] = abs(df_results['Actual']) - abs(df_results['Predicted'])\n",
    "    print('\\nR^2: {0}'.format(model.score(features, label)))\n",
    "    \n",
    "    return df_results"
   ]
  },
  {
   "cell_type": "code",
   "execution_count": 231,
   "metadata": {
    "id": "kEmeLIlTFmGo"
   },
   "outputs": [],
   "source": [
    "def linear_assumption(model, features, label):\n",
    "    \"\"\"\n",
    "    Linearity: Assumes that there is a linear relationship between the predictors and\n",
    "               the response variable. If not, either a quadratic term or another\n",
    "               algorithm should be used.\n",
    "    \"\"\"\n",
    "    print('Assumption 1: Linear Relationship between the Target and the Feature', '\\n')\n",
    "        \n",
    "    print('Checking with a scatter plot of actual vs. predicted.',\n",
    "           'Predictions should follow the diagonal line.')\n",
    "    \n",
    "    # Calculating residuals for the plot\n",
    "    df_results = calculate_residuals(model, features, label)\n",
    "    \n",
    "    # Plotting the actual vs predicted values\n",
    "    sns.lmplot(x='Actual', y='Predicted', data=df_results, fit_reg=False, height=7)\n",
    "        \n",
    "    # Plotting the diagonal line\n",
    "    line_coords = np.arange(df_results.min().min(), df_results.max().max())\n",
    "    plt.plot(line_coords, line_coords,  # X and y points\n",
    "             color='darkorange', linestyle='--')\n",
    "    plt.title('Actual vs. Predicted')\n",
    "    plt.show()"
   ]
  },
  {
   "cell_type": "code",
   "execution_count": 232,
   "metadata": {
    "colab": {
     "base_uri": "https://localhost:8080/",
     "height": 633
    },
    "id": "StEFSkuQVyAK",
    "outputId": "afd05ceb-9904-4ce6-e440-122650331d4e"
   },
   "outputs": [
    {
     "name": "stdout",
     "output_type": "stream",
     "text": [
      "Assumption 1: Linear Relationship between the Target and the Feature \n",
      "\n",
      "Checking with a scatter plot of actual vs. predicted. Predictions should follow the diagonal line.\n",
      "\n",
      "R^2: 0.8829130842677858\n"
     ]
    },
    {
     "data": {
      "image/png": "[encoded data removed]",
      "text/plain": [
       "<Figure size 504x504 with 1 Axes>"
      ]
     },
     "metadata": {},
     "output_type": "display_data"
    }
   ],
   "source": [
    "model = linear_model.LinearRegression()\n",
    "model.fit(X, y)\n",
    "linear_assumption(model, X, y)"
   ]
  },
  {
   "cell_type": "markdown",
   "metadata": {
    "id": "Vd0Q-AcGVZkY"
   },
   "source": [
    "# Дихлофос 2.0\n",
    "Тестировалась сила воздействия средства на\n",
    "насекомых при различном уровне концентрации и различной температуре. Всего было\n",
    "4 варианта концентрации средства и 3 варианта температуры. \n",
    "\n",
    "\n",
    "---\n",
    "\n",
    "\n",
    "Проанализируйте данные и укажите как \n",
    "температура и концентрация влияют на эффективность средства и если взаимное влияние этих факторов на эффективность.\n",
    "Для ответа на этот вопрос сделайте преобразование данных (если требуется),\n",
    "выпишите статистическую модель и обоснуйте выбор, явно пропишите все\n",
    "предположения и обоснуйте их, выполните статистический анализ данных в рамках\n",
    "выбранной модели и сделайте выводы."
   ]
  },
  {
   "cell_type": "markdown",
   "metadata": {
    "id": "Q_Os1QGZOp-t"
   },
   "source": [
    "## Решение"
   ]
  },
  {
   "cell_type": "code",
   "execution_count": 233,
   "metadata": {
    "id": "AEhf5LmVXPhC"
   },
   "outputs": [],
   "source": [
    "cols = ['Дозировка','Температура',\\\n",
    "        'Число тараканов в группе тестирования','Число погибших насекомых']"
   ]
  },
  {
   "cell_type": "code",
   "execution_count": 234,
   "metadata": {
    "colab": {
     "base_uri": "https://localhost:8080/",
     "height": 487
    },
    "id": "RLhTlLija2HI",
    "outputId": "c9821233-5f26-4736-f2e7-037c50db1cd3"
   },
   "outputs": [
    {
     "data": {
      "text/html": [
       "\n",
       "  <div id=\"df-900d967a-9c05-402a-b38b-24acc117704e\">\n",
       "    <div class=\"colab-df-container\">\n",
       "      <div>\n",
       "<style scoped>\n",
       "    .dataframe tbody tr th:only-of-type {\n",
       "        vertical-align: middle;\n",
       "    }\n",
       "\n",
       "    .dataframe tbody tr th {\n",
       "        vertical-align: top;\n",
       "    }\n",
       "\n",
       "    .dataframe thead th {\n",
       "        text-align: right;\n",
       "    }\n",
       "</style>\n",
       "<table border=\"1\" class=\"dataframe\">\n",
       "  <thead>\n",
       "    <tr style=\"text-align: right;\">\n",
       "      <th></th>\n",
       "      <th>Дозировка</th>\n",
       "      <th>Температура</th>\n",
       "      <th>Число тараканов в группе тестирования</th>\n",
       "      <th>Число погибших насекомых</th>\n",
       "    </tr>\n",
       "  </thead>\n",
       "  <tbody>\n",
       "    <tr>\n",
       "      <th>0</th>\n",
       "      <td>1</td>\n",
       "      <td>20</td>\n",
       "      <td>20</td>\n",
       "      <td>5</td>\n",
       "    </tr>\n",
       "    <tr>\n",
       "      <th>1</th>\n",
       "      <td>1</td>\n",
       "      <td>25</td>\n",
       "      <td>20</td>\n",
       "      <td>6</td>\n",
       "    </tr>\n",
       "    <tr>\n",
       "      <th>2</th>\n",
       "      <td>1</td>\n",
       "      <td>30</td>\n",
       "      <td>20</td>\n",
       "      <td>8</td>\n",
       "    </tr>\n",
       "    <tr>\n",
       "      <th>3</th>\n",
       "      <td>2</td>\n",
       "      <td>20</td>\n",
       "      <td>20</td>\n",
       "      <td>8</td>\n",
       "    </tr>\n",
       "    <tr>\n",
       "      <th>4</th>\n",
       "      <td>2</td>\n",
       "      <td>25</td>\n",
       "      <td>20</td>\n",
       "      <td>9</td>\n",
       "    </tr>\n",
       "    <tr>\n",
       "      <th>5</th>\n",
       "      <td>2</td>\n",
       "      <td>30</td>\n",
       "      <td>20</td>\n",
       "      <td>12</td>\n",
       "    </tr>\n",
       "    <tr>\n",
       "      <th>6</th>\n",
       "      <td>3</td>\n",
       "      <td>20</td>\n",
       "      <td>20</td>\n",
       "      <td>10</td>\n",
       "    </tr>\n",
       "    <tr>\n",
       "      <th>7</th>\n",
       "      <td>3</td>\n",
       "      <td>25</td>\n",
       "      <td>20</td>\n",
       "      <td>13</td>\n",
       "    </tr>\n",
       "    <tr>\n",
       "      <th>8</th>\n",
       "      <td>3</td>\n",
       "      <td>30</td>\n",
       "      <td>20</td>\n",
       "      <td>13</td>\n",
       "    </tr>\n",
       "    <tr>\n",
       "      <th>9</th>\n",
       "      <td>4</td>\n",
       "      <td>20</td>\n",
       "      <td>20</td>\n",
       "      <td>18</td>\n",
       "    </tr>\n",
       "    <tr>\n",
       "      <th>10</th>\n",
       "      <td>4</td>\n",
       "      <td>25</td>\n",
       "      <td>20</td>\n",
       "      <td>19</td>\n",
       "    </tr>\n",
       "    <tr>\n",
       "      <th>11</th>\n",
       "      <td>4</td>\n",
       "      <td>30</td>\n",
       "      <td>20</td>\n",
       "      <td>20</td>\n",
       "    </tr>\n",
       "  </tbody>\n",
       "</table>\n",
       "</div>\n",
       "      <button class=\"colab-df-convert\" onclick=\"convertToInteractive('df-900d967a-9c05-402a-b38b-24acc117704e')\"\n",
       "              title=\"Convert this dataframe to an interactive table.\"\n",
       "              style=\"display:none;\">\n",
       "        \n",
       "  <svg xmlns=\"http://www.w3.org/2000/svg\" height=\"24px\"viewBox=\"0 0 24 24\"\n",
       "       width=\"24px\">\n",
       "    <path d=\"M0 0h24v24H0V0z\" fill=\"none\"/>\n",
       "    <path d=\"M18.56 5.44l.94 2.06.94-2.06 2.06-.94-2.06-.94-.94-2.06-.94 2.06-2.06.94zm-11 1L8.5 8.5l.94-2.06 2.06-.94-2.06-.94L8.5 2.5l-.94 2.06-2.06.94zm10 10l.94 2.06.94-2.06 2.06-.94-2.06-.94-.94-2.06-.94 2.06-2.06.94z\"/><path d=\"M17.41 7.96l-1.37-1.37c-.4-.4-.92-.59-1.43-.59-.52 0-1.04.2-1.43.59L10.3 9.45l-7.72 7.72c-.78.78-.78 2.05 0 2.83L4 21.41c.39.39.9.59 1.41.59.51 0 1.02-.2 1.41-.59l7.78-7.78 2.81-2.81c.8-.78.8-2.07 0-2.86zM5.41 20L4 18.59l7.72-7.72 1.47 1.35L5.41 20z\"/>\n",
       "  </svg>\n",
       "      </button>\n",
       "      \n",
       "  <style>\n",
       "    .colab-df-container {\n",
       "      display:flex;\n",
       "      flex-wrap:wrap;\n",
       "      gap: 12px;\n",
       "    }\n",
       "\n",
       "    .colab-df-convert {\n",
       "      background-color: #E8F0FE;\n",
       "      border: none;\n",
       "      border-radius: 50%;\n",
       "      cursor: pointer;\n",
       "      display: none;\n",
       "      fill: #1967D2;\n",
       "      height: 32px;\n",
       "      padding: 0 0 0 0;\n",
       "      width: 32px;\n",
       "    }\n",
       "\n",
       "    .colab-df-convert:hover {\n",
       "      background-color: #E2EBFA;\n",
       "      box-shadow: 0px 1px 2px rgba(60, 64, 67, 0.3), 0px 1px 3px 1px rgba(60, 64, 67, 0.15);\n",
       "      fill: #174EA6;\n",
       "    }\n",
       "\n",
       "    [theme=dark] .colab-df-convert {\n",
       "      background-color: #3B4455;\n",
       "      fill: #D2E3FC;\n",
       "    }\n",
       "\n",
       "    [theme=dark] .colab-df-convert:hover {\n",
       "      background-color: #434B5C;\n",
       "      box-shadow: 0px 1px 3px 1px rgba(0, 0, 0, 0.15);\n",
       "      filter: drop-shadow(0px 1px 2px rgba(0, 0, 0, 0.3));\n",
       "      fill: #FFFFFF;\n",
       "    }\n",
       "  </style>\n",
       "\n",
       "      <script>\n",
       "        const buttonEl =\n",
       "          document.querySelector('#df-900d967a-9c05-402a-b38b-24acc117704e button.colab-df-convert');\n",
       "        buttonEl.style.display =\n",
       "          google.colab.kernel.accessAllowed ? 'block' : 'none';\n",
       "\n",
       "        async function convertToInteractive(key) {\n",
       "          const element = document.querySelector('#df-900d967a-9c05-402a-b38b-24acc117704e');\n",
       "          const dataTable =\n",
       "            await google.colab.kernel.invokeFunction('convertToInteractive',\n",
       "                                                     [key], {});\n",
       "          if (!dataTable) return;\n",
       "\n",
       "          const docLinkHtml = 'Like what you see? Visit the ' +\n",
       "            '<a target=\"_blank\" href=https://colab.research.google.com/notebooks/data_table.ipynb>data table notebook</a>'\n",
       "            + ' to learn more about interactive tables.';\n",
       "          element.innerHTML = '';\n",
       "          dataTable['output_type'] = 'display_data';\n",
       "          await google.colab.output.renderOutput(dataTable, element);\n",
       "          const docLink = document.createElement('div');\n",
       "          docLink.innerHTML = docLinkHtml;\n",
       "          element.appendChild(docLink);\n",
       "        }\n",
       "      </script>\n",
       "    </div>\n",
       "  </div>\n",
       "  "
      ],
      "text/plain": [
       "    Дозировка  Температура  Число тараканов в группе тестирования  \\\n",
       "0           1           20                                     20   \n",
       "1           1           25                                     20   \n",
       "2           1           30                                     20   \n",
       "3           2           20                                     20   \n",
       "4           2           25                                     20   \n",
       "5           2           30                                     20   \n",
       "6           3           20                                     20   \n",
       "7           3           25                                     20   \n",
       "8           3           30                                     20   \n",
       "9           4           20                                     20   \n",
       "10          4           25                                     20   \n",
       "11          4           30                                     20   \n",
       "\n",
       "    Число погибших насекомых  \n",
       "0                          5  \n",
       "1                          6  \n",
       "2                          8  \n",
       "3                          8  \n",
       "4                          9  \n",
       "5                         12  \n",
       "6                         10  \n",
       "7                         13  \n",
       "8                         13  \n",
       "9                         18  \n",
       "10                        19  \n",
       "11                        20  "
      ]
     },
     "execution_count": 234,
     "metadata": {},
     "output_type": "execute_result"
    }
   ],
   "source": [
    "df = pd.read_csv('Дихлофос.txt', sep=\" \", header=None)\n",
    "df.columns = cols\n",
    "df"
   ]
  },
  {
   "cell_type": "code",
   "execution_count": 235,
   "metadata": {
    "id": "VvTLU8NYGJUE"
   },
   "outputs": [],
   "source": [
    "X = df[df.columns[:2]]\n",
    "y = df['Число погибших насекомых']"
   ]
  },
  {
   "cell_type": "markdown",
   "metadata": {
    "id": "t7M5d8kqiKq9"
   },
   "source": [
    "Эффективность := число погибших насекомых."
   ]
  },
  {
   "cell_type": "markdown",
   "metadata": {
    "id": "6tcZVfNTRA56"
   },
   "source": [
    "Предположение 1: при увеличении дозировки эффективность средства увеличивается (common sense).  \n",
    "\n",
    "Предположение 2: при увеличении температуры эффективность средства увеличивается (common sense).  \n",
    "\n",
    "Предположение 3: линейная зависимость между признаками и таргетом (в противном случае будем искать другую зависимость)."
   ]
  },
  {
   "cell_type": "markdown",
   "metadata": {
    "id": "o-LUJnbDPAUf"
   },
   "source": [
    "Необходимо категориальные данные закодировать. На температуру мы можем смотерть как на категориальный признак (конечное число значений, получаются как бы группы: эксперименты проведённых при t температуре)."
   ]
  },
  {
   "cell_type": "code",
   "execution_count": 236,
   "metadata": {
    "id": "0HxFPyaBGCN7"
   },
   "outputs": [],
   "source": [
    "onehot_encoder = OneHotEncoder()\n",
    "encode_data = onehot_encoder.fit_transform(X)"
   ]
  },
  {
   "cell_type": "code",
   "execution_count": 241,
   "metadata": {
    "colab": {
     "base_uri": "https://localhost:8080/"
    },
    "id": "HTPmIgbnqdLW",
    "outputId": "b43fe12b-7fed-4baa-889c-e2fb9d6933e5"
   },
   "outputs": [
    {
     "data": {
      "text/plain": [
       "array([[1., 0., 0., 0., 1., 0., 0.],\n",
       "       [1., 0., 0., 0., 0., 1., 0.],\n",
       "       [1., 0., 0., 0., 0., 0., 1.],\n",
       "       [0., 1., 0., 0., 1., 0., 0.],\n",
       "       [0., 1., 0., 0., 0., 1., 0.],\n",
       "       [0., 1., 0., 0., 0., 0., 1.],\n",
       "       [0., 0., 1., 0., 1., 0., 0.],\n",
       "       [0., 0., 1., 0., 0., 1., 0.],\n",
       "       [0., 0., 1., 0., 0., 0., 1.],\n",
       "       [0., 0., 0., 1., 1., 0., 0.],\n",
       "       [0., 0., 0., 1., 0., 1., 0.],\n",
       "       [0., 0., 0., 1., 0., 0., 1.]])"
      ]
     },
     "execution_count": 241,
     "metadata": {},
     "output_type": "execute_result"
    }
   ],
   "source": [
    "encode_data.toarray()"
   ]
  },
  {
   "cell_type": "code",
   "execution_count": 237,
   "metadata": {
    "colab": {
     "base_uri": "https://localhost:8080/",
     "height": 633
    },
    "id": "XRpY3BarGeZO",
    "outputId": "aa945b3d-5699-4f19-e1a6-bdd875b9c7fb"
   },
   "outputs": [
    {
     "name": "stdout",
     "output_type": "stream",
     "text": [
      "Assumption 1: Linear Relationship between the Target and the Feature \n",
      "\n",
      "Checking with a scatter plot of actual vs. predicted. Predictions should follow the diagonal line.\n",
      "\n",
      "R^2: 0.9881058578650015\n"
     ]
    },
    {
     "data": {
      "image/png": "[encoded data removed]",
      "text/plain": [
       "<Figure size 504x504 with 1 Axes>"
      ]
     },
     "metadata": {},
     "output_type": "display_data"
    }
   ],
   "source": [
    "model = linear_model.LinearRegression()\n",
    "model.fit(encode_data, y)\n",
    "linear_assumption(model, encode_data, y)"
   ]
  },
  {
   "cell_type": "markdown",
   "metadata": {
    "id": "R3YufzguLaNO"
   },
   "source": [
    "Линейная модель показала высокое качество, R^2: 0.99. Посмотрим на веса модели. "
   ]
  },
  {
   "cell_type": "code",
   "execution_count": 238,
   "metadata": {
    "id": "fnKD6HhMJLoV"
   },
   "outputs": [],
   "source": [
    "f_names = onehot_encoder.get_feature_names_out(X.columns)\n",
    "w = model.coef_\n",
    "d = dict(zip(f_names, w))"
   ]
  },
  {
   "cell_type": "code",
   "execution_count": 239,
   "metadata": {
    "colab": {
     "base_uri": "https://localhost:8080/"
    },
    "id": "uPkXyQ43KmjB",
    "outputId": "478fe4f5-b4a7-412f-944f-d0995d7a6529"
   },
   "outputs": [
    {
     "name": "stdout",
     "output_type": "stream",
     "text": [
      "('Дозировка_1', -5.416666666666666)\n",
      "('Дозировка_2', -2.083333333333333)\n",
      "('Дозировка_3', 0.2499999999999998)\n",
      "('Дозировка_4', 7.249999999999999)\n",
      "('Температура_20', -1.5)\n",
      "('Температура_25', -7.121104895145041e-17)\n",
      "('Температура_30', 1.5)\n"
     ]
    }
   ],
   "source": [
    "print(*d.items(), sep='\\n')"
   ]
  },
  {
   "cell_type": "markdown",
   "metadata": {
    "id": "DB424vqlLx-o"
   },
   "source": [
    "Увеличение температуры и смена дозировки с 1 на 4 спопобствуют увеличению эффективности средства (увеличению количества мертвых насекомых). "
   ]
  },
  {
   "cell_type": "markdown",
   "metadata": {
    "id": "tEX221pWRS1l"
   },
   "source": [
    "# Ставки на камни\n",
    "Представьте себе реализацию, в которой спорщик покупает вслепую набор из X\n",
    "камней, где X выбирается случайно согласно Пуассоновскому распределению с\n",
    "параметром 80, после чего их вскрывают один за другим. Сразу после вскрытия камня\n",
    "игрок может выбрать камень своим представителем в споре или отбросить его и начать\n",
    "вскрывать следующий. Игрок может выбрать только один камень, который будет его\n",
    "представлять. После того, как камень был выбран, оставшиеся камни из купленного\n",
    "набора не вскрываются. Вернуться к отвергнутому камню тоже нельзя.\n",
    "\n",
    "\n",
    "\n",
    "\n",
    "\n",
    "\n",
    "---\n",
    "\n",
    "\n",
    "Представьте, что Вы играете именно в такую реализацию игры. Опишите и обоснуйте\n",
    "свою стратегию игры."
   ]
  },
  {
   "cell_type": "markdown",
   "metadata": {
    "id": "q7_2dRY5SRFh"
   },
   "source": [
    "## Решение"
   ]
  },
  {
   "cell_type": "markdown",
   "metadata": {
    "id": "mAqI09lASWVa"
   },
   "source": [
    " 1) Для начала разбирёмся с потенциальным числом камней. \n",
    "\n",
    "Для Пуассоновского распредления с параметром λ справделиво:\n",
    "\n",
    "* матожидание = λ\n",
    "* диспресия = λ\n",
    "\n",
    "Так же стоит отметить, что по мере увеличения λ Пуассоновское распредление стремиться к нормальному с матожиданием и дисперсией λ. Если λ больше примерно 10, то нормальное распределение является хорошим приближением. Так что можно считать, что при λ = 80 диапазон камней может быть от 53 до 107 (т.е μ ± 3σ, μ = 80, σ ≈ 9).\n",
    "\n",
    "2)   Определим стратегию.  \n",
    "Данная задача является вариацией задачи о \"разборчивой невесте\". Оптимальная стратегия такая: надо отклонить всех первых n/e (где e — основание натурального логарифма) претендентов (~37%) и затем выбрать первого, кто будет лучше всех предыдущих.\n",
    "\n",
    "3) Определим число камней для отлонения.  \n",
    "В засивисимости от количества камней в наборе (см. 1 пункт), нужно будет отклонить от 20 до 39 камней и затем выбрать тот, кто будет лучше всех предыдущих.\n",
    "\n"
   ]
  }
 ],
 "metadata": {
  "colab": {
   "collapsed_sections": [],
   "name": "Ломоносов_Илья_Валерьевич_Решение_BI",
   "provenance": []
  },
  "kernelspec": {
   "display_name": "Python 3 (ipykernel)",
   "language": "python",
   "name": "python3"
  },
  "language_info": {
   "name": "python"
  }
 },
 "nbformat": 4,
 "nbformat_minor": 4
}
